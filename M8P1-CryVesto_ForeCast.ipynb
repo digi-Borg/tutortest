{
 "cells": [
  {
   "cell_type": "markdown",
   "id": "6dd1b7b1-262f-4eed-a35a-2d5fccaabc28",
   "metadata": {},
   "source": [
    "###Mod8 Project 1: CryVesto ForeCast Program###"
   ]
  },
  {
   "cell_type": "markdown",
   "id": "a274d3e1-8e5f-4c2b-be1c-108c3c6bcdb9",
   "metadata": {},
   "source": [
    "Step 1: Review the libraries and dependencies that have been imported"
   ]
  },
  {
   "cell_type": "code",
   "execution_count": 97,
   "id": "48f63281-a5ac-4639-a403-975460328c6b",
   "metadata": {},
   "outputs": [],
   "source": [
    "#Imports for Analysis and MC Simulation Program:\n",
    "from pathlib import Path\n",
    "import pandas as pd\n",
    "import pandas_datareader as pdr\n",
    "import numpy as np\n",
    "import hvplot.pandas\n",
    "import os\n",
    "import requests\n",
    "import json\n",
    "from dotenv import load_dotenv\n",
    "import alpaca_trade_api as tradeapi\n",
    "import matplotlib.pyplot as plt\n",
    "%matplotlib inline\n",
    "from MCForecastTools import MCSimulation"
   ]
  },
  {
   "cell_type": "markdown",
   "id": "d983609a-8788-4d5d-9f5f-690f7b8259a7",
   "metadata": {},
   "source": [
    "Step 2: Create an environment file (.env)"
   ]
  },
  {
   "cell_type": "markdown",
   "id": "0b35f745-074e-415a-bfc9-3e700f4fe558",
   "metadata": {},
   "source": [
    "Step3: Load the environment variable by calling the load_dotenv() function.\n",
    "Set the value of the variables alpaca_api_key and alpaca_secret_key equal to their respective environment variables.\n",
    "Confirm the variables are available by checking the type of each."
   ]
  },
  {
   "cell_type": "code",
   "execution_count": 98,
   "id": "d107b06d-a204-475c-be6e-3f7d8a189ae4",
   "metadata": {},
   "outputs": [
    {
     "data": {
      "text/plain": [
       "True"
      ]
     },
     "execution_count": 98,
     "metadata": {},
     "output_type": "execute_result"
    }
   ],
   "source": [
    "# Load the environment variables by calling the load_dotenv function\n",
    "load_dotenv()"
   ]
  },
  {
   "cell_type": "code",
   "execution_count": 99,
   "id": "b92fe653-6053-4195-9e0b-15cb07a8ad8d",
   "metadata": {},
   "outputs": [
    {
     "data": {
      "text/plain": [
       "str"
      ]
     },
     "metadata": {},
     "output_type": "display_data"
    },
    {
     "data": {
      "text/plain": [
       "str"
      ]
     },
     "metadata": {},
     "output_type": "display_data"
    }
   ],
   "source": [
    "# Set Alpaca API key and secret by calling the os.getenv function and referencing the environment variable names\n",
    "# Set each environment variable to a notebook variable of the same name\n",
    "alpaca_api_key = os.getenv(\"ALPACA_API_KEY\")\n",
    "alpaca_secret_key = os.getenv(\"ALPACA_SECRET_KEY\")\n",
    "\n",
    "# Check the values were imported correctly by evaluating the type of each\n",
    "display(type(alpaca_api_key))\n",
    "display(type(alpaca_secret_key)) "
   ]
  },
  {
   "cell_type": "markdown",
   "id": "eb267e15-edb7-454b-ae30-6c6277960ebd",
   "metadata": {},
   "source": [
    "Step 4: Set up the Alpaca API REST object. Make sure that this object includes your Alpaca API key, your Alpaca secret key, and a reference to the version that you’re using"
   ]
  },
  {
   "cell_type": "code",
   "execution_count": 100,
   "id": "49992987-7c53-4bae-b1f0-c919ce6133e1",
   "metadata": {},
   "outputs": [],
   "source": [
    "# Create your Alpaca API REST object by calling Alpaca's tradeapi.REST function\n",
    "# Set the parameters to your alpaca_api_key, alpaca_secret_key and api_version=\"v2\" \n",
    "alpaca = tradeapi.REST(\n",
    "    alpaca_api_key,\n",
    "    alpaca_secret_key,\n",
    "    api_version = \"v2\") "
   ]
  },
  {
   "cell_type": "markdown",
   "id": "7cb72e2c-3e55-402b-9e06-cc716d26b26b",
   "metadata": {},
   "source": [
    "Step 5: Use the Alpaca SDK to make an Alpaca API call to get 3 years of daily historical price data from 2016-19 for the following ETFs: SPY, QQQ, TWO, ARKK, RPV, BND   \n",
    "They are selected to emulate key models of benchmark indexs and asset themes for allocation and comparison purposes. \n",
    "\n",
    "Create the list for the required tickers.  \n",
    "Set the values for start_date and end_date using the pd.Timestamp function. The dates should be 2016-01-01 through 2019-12-31.   \n",
    "Set the timeframe value to 1 day.   \n",
    "Create the portfolio_prices_df DataFrame by setting it equal to the alpaca.get_bars function. "
   ]
  },
  {
   "cell_type": "code",
   "execution_count": 101,
   "id": "b8000fc0-5c18-43c3-ad3c-9661dd81938a",
   "metadata": {},
   "outputs": [
    {
     "data": {
      "text/plain": [
       "['SPY', 'QQQ', 'VTWO', 'ARKK', 'RPV', 'BND', 'BITO']"
      ]
     },
     "execution_count": 101,
     "metadata": {},
     "output_type": "execute_result"
    }
   ],
   "source": [
    "# Create the list for the top ETF tickers\n",
    "etf_tickers = ['SPY', 'QQQ', 'VTWO', 'ARKK', 'RPV', 'BND', 'BITO'] \n",
    "etf_tickers"
   ]
  },
  {
   "cell_type": "code",
   "execution_count": 102,
   "id": "e3ad1b8e-61ec-4e65-89f0-96135526e592",
   "metadata": {},
   "outputs": [],
   "source": [
    "# Top Crypto Coin Tickers by mkt-cap (no stable_coins) \n",
    "#crypto_tickers = ['BTC', 'ETH', 'XRP', 'LUNA', 'SOL', 'ADA']\n",
    "# crypto_tickers"
   ]
  },
  {
   "cell_type": "code",
   "execution_count": 103,
   "id": "8277da57-43bd-4d0f-a95b-37c57f9028a0",
   "metadata": {},
   "outputs": [],
   "source": [
    "# Get market cap for top 10 crypto coins \n",
    "# How do we visualize using a pie chart?\n",
    "#mc_data = pdr.get_data_iex(crypto_tickers)\n",
    "#mc = mc_data['marketCap']\n",
    "#mc"
   ]
  },
  {
   "cell_type": "code",
   "execution_count": 104,
   "id": "371e5c76-84a0-4a8e-9904-f695391a7c42",
   "metadata": {},
   "outputs": [],
   "source": [
    "#Get closing prices from start 2016 to present \n",
    "# IGNORE ERROR THIS IS BC THE CRYPTOS DIDNT EXIST AT THAT TIME\n",
    "#start = dt.datetime(2020, 1, 1)\n",
    "#end = dt.datetime(2021, 5, 5)\n",
    " \n",
    "#crypto_2016_present = pdr.get_data_IEX(tickers, start, end)\n",
    "\n",
    "#crypto_2016_present[\"Close\"].tail()"
   ]
  },
  {
   "cell_type": "code",
   "execution_count": 105,
   "id": "663b0e88-2e14-4d0d-95df-af9de37202e1",
   "metadata": {},
   "outputs": [],
   "source": [
    "# Set the values for start_date and end_date using the pd.Timestamp function\n",
    "# Inside the function set the date parameter to the prior business day \n",
    "# The start and end data should be 2016-01-01 to 2019-12-31\n",
    "# Set the parameter tz to \"America/New_York\", \n",
    "# Set this all to the ISO format by calling the isoformat function \n",
    "start_date = pd.Timestamp(\"2019-01-01\", tz=\"America/New_York\").isoformat()  \n",
    "end_date = pd.Timestamp(\"2021-12-31\", tz=\"America/New_York\").isoformat()  "
   ]
  },
  {
   "cell_type": "markdown",
   "id": "0a4f7572-5c8c-400a-9f43-07dd39171bb5",
   "metadata": {},
   "source": [
    "Create a Python list named savings_data that has two elements. The first element contains the total value of the cryptocurrency wallet. The second element contains the total value of the stock and bond portions of the portfolio"
   ]
  },
  {
   "cell_type": "code",
   "execution_count": 106,
   "id": "c9797cff-ba75-4118-b8cd-a6947495f7b0",
   "metadata": {},
   "outputs": [],
   "source": [
    "# Set timeframe to one day (1Day)\n",
    "timeframe=\"1Day\""
   ]
  },
  {
   "cell_type": "code",
   "execution_count": 107,
   "id": "0cc3a0c9-1619-4709-a73f-4741cf94a365",
   "metadata": {},
   "outputs": [],
   "source": [
    "# Historical Data for top 10 crypto coins 2016 - 2019\n",
    "# IGNORE ERROR THIS IS BC THE CRYPTOS DIDNT EXIST AT THAT TIME\n",
    "#start = dt.datetime(2016, 1, 1)\n",
    "#end = dt.datetime(2018, 12, 31)\n",
    " \n",
    "#hist_2016_2019 = pdr.get_data_yahoo(tickers, start, end)\n",
    "#hist_1_close = hist_2016_2019['Close'].hvplot(title = \"2016 - 2019 Historical Close Price\", ylabel = \"Closing Price\",\n",
    "#    height = 600, width = 1200)\n",
    "#hist_1_close          "
   ]
  },
  {
   "cell_type": "code",
   "execution_count": null,
   "id": "6cb267bf-21ad-43bd-adf5-7d056fc29fd9",
   "metadata": {},
   "outputs": [],
   "source": []
  },
  {
   "cell_type": "code",
   "execution_count": 108,
   "id": "54399a45-da15-4e36-8c72-2330cac7f322",
   "metadata": {
    "tags": []
   },
   "outputs": [
    {
     "data": {
      "text/html": [
       "<div>\n",
       "<style scoped>\n",
       "    .dataframe tbody tr th:only-of-type {\n",
       "        vertical-align: middle;\n",
       "    }\n",
       "\n",
       "    .dataframe tbody tr th {\n",
       "        vertical-align: top;\n",
       "    }\n",
       "\n",
       "    .dataframe thead tr th {\n",
       "        text-align: left;\n",
       "    }\n",
       "\n",
       "    .dataframe thead tr:last-of-type th {\n",
       "        text-align: right;\n",
       "    }\n",
       "</style>\n",
       "<table border=\"1\" class=\"dataframe\">\n",
       "  <thead>\n",
       "    <tr>\n",
       "      <th></th>\n",
       "      <th>SPY</th>\n",
       "      <th>QQQ</th>\n",
       "      <th>VTWO</th>\n",
       "      <th>ARKK</th>\n",
       "      <th>RPV</th>\n",
       "      <th>BND</th>\n",
       "      <th>BITO</th>\n",
       "    </tr>\n",
       "    <tr>\n",
       "      <th></th>\n",
       "      <th>close</th>\n",
       "      <th>close</th>\n",
       "      <th>close</th>\n",
       "      <th>close</th>\n",
       "      <th>close</th>\n",
       "      <th>close</th>\n",
       "      <th>close</th>\n",
       "    </tr>\n",
       "    <tr>\n",
       "      <th>timestamp</th>\n",
       "      <th></th>\n",
       "      <th></th>\n",
       "      <th></th>\n",
       "      <th></th>\n",
       "      <th></th>\n",
       "      <th></th>\n",
       "      <th></th>\n",
       "    </tr>\n",
       "  </thead>\n",
       "  <tbody>\n",
       "    <tr>\n",
       "      <th>2019-01-02 05:00:00+00:00</th>\n",
       "      <td>250.18</td>\n",
       "      <td>154.88</td>\n",
       "      <td>108.17</td>\n",
       "      <td>37.42</td>\n",
       "      <td>57.50</td>\n",
       "      <td>79.37</td>\n",
       "      <td>NaN</td>\n",
       "    </tr>\n",
       "    <tr>\n",
       "      <th>2019-01-03 05:00:00+00:00</th>\n",
       "      <td>244.21</td>\n",
       "      <td>149.82</td>\n",
       "      <td>106.12</td>\n",
       "      <td>36.19</td>\n",
       "      <td>56.65</td>\n",
       "      <td>79.68</td>\n",
       "      <td>NaN</td>\n",
       "    </tr>\n",
       "    <tr>\n",
       "      <th>2019-01-04 05:00:00+00:00</th>\n",
       "      <td>252.39</td>\n",
       "      <td>156.23</td>\n",
       "      <td>110.05</td>\n",
       "      <td>38.43</td>\n",
       "      <td>58.69</td>\n",
       "      <td>79.44</td>\n",
       "      <td>NaN</td>\n",
       "    </tr>\n",
       "    <tr>\n",
       "      <th>2019-01-07 05:00:00+00:00</th>\n",
       "      <td>254.38</td>\n",
       "      <td>158.09</td>\n",
       "      <td>112.12</td>\n",
       "      <td>40.10</td>\n",
       "      <td>59.30</td>\n",
       "      <td>79.32</td>\n",
       "      <td>NaN</td>\n",
       "    </tr>\n",
       "    <tr>\n",
       "      <th>2019-01-08 05:00:00+00:00</th>\n",
       "      <td>256.77</td>\n",
       "      <td>159.52</td>\n",
       "      <td>113.83</td>\n",
       "      <td>40.22</td>\n",
       "      <td>59.69</td>\n",
       "      <td>79.22</td>\n",
       "      <td>NaN</td>\n",
       "    </tr>\n",
       "  </tbody>\n",
       "</table>\n",
       "</div>"
      ],
      "text/plain": [
       "                              SPY     QQQ    VTWO   ARKK    RPV    BND  BITO\n",
       "                            close   close   close  close  close  close close\n",
       "timestamp                                                                   \n",
       "2019-01-02 05:00:00+00:00  250.18  154.88  108.17  37.42  57.50  79.37   NaN\n",
       "2019-01-03 05:00:00+00:00  244.21  149.82  106.12  36.19  56.65  79.68   NaN\n",
       "2019-01-04 05:00:00+00:00  252.39  156.23  110.05  38.43  58.69  79.44   NaN\n",
       "2019-01-07 05:00:00+00:00  254.38  158.09  112.12  40.10  59.30  79.32   NaN\n",
       "2019-01-08 05:00:00+00:00  256.77  159.52  113.83  40.22  59.69  79.22   NaN"
      ]
     },
     "metadata": {},
     "output_type": "display_data"
    },
    {
     "data": {
      "text/html": [
       "<div>\n",
       "<style scoped>\n",
       "    .dataframe tbody tr th:only-of-type {\n",
       "        vertical-align: middle;\n",
       "    }\n",
       "\n",
       "    .dataframe tbody tr th {\n",
       "        vertical-align: top;\n",
       "    }\n",
       "\n",
       "    .dataframe thead tr th {\n",
       "        text-align: left;\n",
       "    }\n",
       "\n",
       "    .dataframe thead tr:last-of-type th {\n",
       "        text-align: right;\n",
       "    }\n",
       "</style>\n",
       "<table border=\"1\" class=\"dataframe\">\n",
       "  <thead>\n",
       "    <tr>\n",
       "      <th></th>\n",
       "      <th>SPY</th>\n",
       "      <th>QQQ</th>\n",
       "      <th>VTWO</th>\n",
       "      <th>ARKK</th>\n",
       "      <th>RPV</th>\n",
       "      <th>BND</th>\n",
       "      <th>BITO</th>\n",
       "    </tr>\n",
       "    <tr>\n",
       "      <th></th>\n",
       "      <th>close</th>\n",
       "      <th>close</th>\n",
       "      <th>close</th>\n",
       "      <th>close</th>\n",
       "      <th>close</th>\n",
       "      <th>close</th>\n",
       "      <th>close</th>\n",
       "    </tr>\n",
       "    <tr>\n",
       "      <th>timestamp</th>\n",
       "      <th></th>\n",
       "      <th></th>\n",
       "      <th></th>\n",
       "      <th></th>\n",
       "      <th></th>\n",
       "      <th></th>\n",
       "      <th></th>\n",
       "    </tr>\n",
       "  </thead>\n",
       "  <tbody>\n",
       "    <tr>\n",
       "      <th>2021-12-27 05:00:00+00:00</th>\n",
       "      <td>477.26</td>\n",
       "      <td>403.48</td>\n",
       "      <td>90.35</td>\n",
       "      <td>97.41</td>\n",
       "      <td>80.29</td>\n",
       "      <td>84.87</td>\n",
       "      <td>32.46</td>\n",
       "    </tr>\n",
       "    <tr>\n",
       "      <th>2021-12-28 05:00:00+00:00</th>\n",
       "      <td>476.87</td>\n",
       "      <td>401.61</td>\n",
       "      <td>89.83</td>\n",
       "      <td>95.63</td>\n",
       "      <td>80.68</td>\n",
       "      <td>84.86</td>\n",
       "      <td>30.24</td>\n",
       "    </tr>\n",
       "    <tr>\n",
       "      <th>2021-12-29 05:00:00+00:00</th>\n",
       "      <td>477.48</td>\n",
       "      <td>401.55</td>\n",
       "      <td>89.90</td>\n",
       "      <td>93.83</td>\n",
       "      <td>80.88</td>\n",
       "      <td>84.58</td>\n",
       "      <td>29.89</td>\n",
       "    </tr>\n",
       "    <tr>\n",
       "      <th>2021-12-30 05:00:00+00:00</th>\n",
       "      <td>476.16</td>\n",
       "      <td>400.35</td>\n",
       "      <td>89.91</td>\n",
       "      <td>96.70</td>\n",
       "      <td>80.80</td>\n",
       "      <td>84.77</td>\n",
       "      <td>29.81</td>\n",
       "    </tr>\n",
       "    <tr>\n",
       "      <th>2021-12-31 05:00:00+00:00</th>\n",
       "      <td>474.96</td>\n",
       "      <td>397.85</td>\n",
       "      <td>89.81</td>\n",
       "      <td>94.59</td>\n",
       "      <td>80.83</td>\n",
       "      <td>84.75</td>\n",
       "      <td>28.90</td>\n",
       "    </tr>\n",
       "  </tbody>\n",
       "</table>\n",
       "</div>"
      ],
      "text/plain": [
       "                              SPY     QQQ   VTWO   ARKK    RPV    BND   BITO\n",
       "                            close   close  close  close  close  close  close\n",
       "timestamp                                                                   \n",
       "2021-12-27 05:00:00+00:00  477.26  403.48  90.35  97.41  80.29  84.87  32.46\n",
       "2021-12-28 05:00:00+00:00  476.87  401.61  89.83  95.63  80.68  84.86  30.24\n",
       "2021-12-29 05:00:00+00:00  477.48  401.55  89.90  93.83  80.88  84.58  29.89\n",
       "2021-12-30 05:00:00+00:00  476.16  400.35  89.91  96.70  80.80  84.77  29.81\n",
       "2021-12-31 05:00:00+00:00  474.96  397.85  89.81  94.59  80.83  84.75  28.90"
      ]
     },
     "metadata": {},
     "output_type": "display_data"
    }
   ],
   "source": [
    "# Use the Alpaca get_bars function to gather the price information for each ticker\n",
    "# Include the function parameters: tickers, timeframe, start, end, and limit \n",
    "limit_rows = 10000\n",
    "# Be sure to call the df property to ensure that the returned information is set as a DataFrame\n",
    "etf_prices_df = alpaca.get_bars(etf_tickers, timeframe, start=start_date, end=end_date).df\n",
    "\n",
    "# Reorganize the DataFrame\n",
    "# Separate ticker data\n",
    "SPY = etf_prices_df[etf_prices_df['symbol']=='SPY'].drop(['symbol', 'open', 'high', 'low', 'volume', 'trade_count', 'vwap'], axis=1)\n",
    "QQQ = etf_prices_df[etf_prices_df['symbol']=='QQQ'].drop(['symbol', 'open', 'high', 'low', 'volume', 'trade_count', 'vwap'],axis=1)\n",
    "VTWO = etf_prices_df[etf_prices_df['symbol']=='VTWO'].drop(['symbol', 'open', 'high', 'low', 'volume', 'trade_count', 'vwap'], axis=1)\n",
    "ARKK = etf_prices_df[etf_prices_df['symbol']=='ARKK'].drop(['symbol', 'open', 'high', 'low', 'volume', 'trade_count', 'vwap'], axis=1) \n",
    "RPV = etf_prices_df[etf_prices_df['symbol']=='RPV'].drop(['symbol','open', 'high', 'low','volume', 'trade_count', 'vwap'], axis=1)\n",
    "BND = etf_prices_df[etf_prices_df['symbol']=='BND'].drop(['symbol','open', 'high', 'low', 'volume', 'trade_count', 'vwap'], axis=1)\n",
    "BITO = etf_prices_df[etf_prices_df['symbol']=='BITO'].drop(['symbol','open', 'high', 'low', 'volume', 'trade_count', 'vwap'], axis=1) \n",
    "# Concatenate the ticker DataFrames\n",
    "etf_prices_df = pd.concat([SPY, QQQ, VTWO, ARKK, RPV, BND, BITO], axis=1, keys=[\"SPY\", \"QQQ\", \"VTWO\", \"ARKK\", \"RPV\", \"BND\", \"BITO\"])\n",
    "\n",
    "# Review the first five rows of the resulting DataFrame \n",
    "#display(etf_prices_df.head())\n",
    "display(etf_prices_df.head())\n",
    "display(etf_prices_df.tail())"
   ]
  },
  {
   "cell_type": "code",
   "execution_count": 109,
   "id": "68b402bc-7218-475e-a736-25683ca5c44b",
   "metadata": {
    "collapsed": true,
    "jupyter": {
     "outputs_hidden": true
    },
    "tags": []
   },
   "outputs": [
    {
     "data": {
      "text/html": [
       "<div>\n",
       "<style scoped>\n",
       "    .dataframe tbody tr th:only-of-type {\n",
       "        vertical-align: middle;\n",
       "    }\n",
       "\n",
       "    .dataframe tbody tr th {\n",
       "        vertical-align: top;\n",
       "    }\n",
       "\n",
       "    .dataframe thead tr th {\n",
       "        text-align: left;\n",
       "    }\n",
       "\n",
       "    .dataframe thead tr:last-of-type th {\n",
       "        text-align: right;\n",
       "    }\n",
       "</style>\n",
       "<table border=\"1\" class=\"dataframe\">\n",
       "  <thead>\n",
       "    <tr>\n",
       "      <th></th>\n",
       "      <th>SPY</th>\n",
       "      <th>QQQ</th>\n",
       "      <th>VTWO</th>\n",
       "      <th>ARKK</th>\n",
       "      <th>RPV</th>\n",
       "      <th>BND</th>\n",
       "      <th>BITO</th>\n",
       "    </tr>\n",
       "    <tr>\n",
       "      <th></th>\n",
       "      <th>close</th>\n",
       "      <th>close</th>\n",
       "      <th>close</th>\n",
       "      <th>close</th>\n",
       "      <th>close</th>\n",
       "      <th>close</th>\n",
       "      <th>close</th>\n",
       "    </tr>\n",
       "    <tr>\n",
       "      <th>timestamp</th>\n",
       "      <th></th>\n",
       "      <th></th>\n",
       "      <th></th>\n",
       "      <th></th>\n",
       "      <th></th>\n",
       "      <th></th>\n",
       "      <th></th>\n",
       "    </tr>\n",
       "  </thead>\n",
       "  <tbody>\n",
       "    <tr>\n",
       "      <th>2021-10-20 04:00:00+00:00</th>\n",
       "      <td>1.003928</td>\n",
       "      <td>0.998695</td>\n",
       "      <td>1.006683</td>\n",
       "      <td>0.992475</td>\n",
       "      <td>1.016581</td>\n",
       "      <td>0.998823</td>\n",
       "      <td>1.031950</td>\n",
       "    </tr>\n",
       "    <tr>\n",
       "      <th>2021-10-21 04:00:00+00:00</th>\n",
       "      <td>1.006546</td>\n",
       "      <td>1.004794</td>\n",
       "      <td>1.009203</td>\n",
       "      <td>1.000502</td>\n",
       "      <td>1.012184</td>\n",
       "      <td>0.997411</td>\n",
       "      <td>0.973534</td>\n",
       "    </tr>\n",
       "    <tr>\n",
       "      <th>2021-10-22 04:00:00+00:00</th>\n",
       "      <td>1.005503</td>\n",
       "      <td>0.996351</td>\n",
       "      <td>1.006574</td>\n",
       "      <td>0.984532</td>\n",
       "      <td>1.017837</td>\n",
       "      <td>0.999529</td>\n",
       "      <td>0.942060</td>\n",
       "    </tr>\n",
       "    <tr>\n",
       "      <th>2021-10-25 04:00:00+00:00</th>\n",
       "      <td>1.010896</td>\n",
       "      <td>1.006552</td>\n",
       "      <td>1.016544</td>\n",
       "      <td>1.018478</td>\n",
       "      <td>1.017586</td>\n",
       "      <td>1.000000</td>\n",
       "      <td>0.967573</td>\n",
       "    </tr>\n",
       "    <tr>\n",
       "      <th>2021-10-26 04:00:00+00:00</th>\n",
       "      <td>1.011805</td>\n",
       "      <td>1.009721</td>\n",
       "      <td>1.008984</td>\n",
       "      <td>1.013378</td>\n",
       "      <td>1.013064</td>\n",
       "      <td>1.002000</td>\n",
       "      <td>0.955174</td>\n",
       "    </tr>\n",
       "  </tbody>\n",
       "</table>\n",
       "</div>"
      ],
      "text/plain": [
       "                                SPY       QQQ      VTWO      ARKK       RPV  \\\n",
       "                              close     close     close     close     close   \n",
       "timestamp                                                                     \n",
       "2021-10-20 04:00:00+00:00  1.003928  0.998695  1.006683  0.992475  1.016581   \n",
       "2021-10-21 04:00:00+00:00  1.006546  1.004794  1.009203  1.000502  1.012184   \n",
       "2021-10-22 04:00:00+00:00  1.005503  0.996351  1.006574  0.984532  1.017837   \n",
       "2021-10-25 04:00:00+00:00  1.010896  1.006552  1.016544  1.018478  1.017586   \n",
       "2021-10-26 04:00:00+00:00  1.011805  1.009721  1.008984  1.013378  1.013064   \n",
       "\n",
       "                                BND      BITO  \n",
       "                              close     close  \n",
       "timestamp                                      \n",
       "2021-10-20 04:00:00+00:00  0.998823  1.031950  \n",
       "2021-10-21 04:00:00+00:00  0.997411  0.973534  \n",
       "2021-10-22 04:00:00+00:00  0.999529  0.942060  \n",
       "2021-10-25 04:00:00+00:00  1.000000  0.967573  \n",
       "2021-10-26 04:00:00+00:00  1.002000  0.955174  "
      ]
     },
     "metadata": {},
     "output_type": "display_data"
    }
   ],
   "source": [
    "etf_index_daily_rtns = etf_prices_df.pct_change().dropna() \n",
    "etf_index_cumltv_rtns = (1 + etf_index_daily_rtns).cumprod()\n",
    "\n",
    "display(etf_index_cumltv_rtns.head())\n",
    "#display(etf_index_cumltv_rtns.tail()) "
   ]
  },
  {
   "cell_type": "code",
   "execution_count": 110,
   "id": "e2d9c3cc-9483-4120-bd70-fb794100e67b",
   "metadata": {},
   "outputs": [
    {
     "data": {
      "text/plain": [
       "<AxesSubplot:title={'center':'Volatility of ETF Indexes'}>"
      ]
     },
     "execution_count": 110,
     "metadata": {},
     "output_type": "execute_result"
    },
    {
     "data": {
      "image/png": "[encoded data removed]",
      "text/plain": [
       "<Figure size 1008x504 with 1 Axes>"
      ]
     },
     "metadata": {
      "needs_background": "light"
     },
     "output_type": "display_data"
    }
   ],
   "source": [
    "# Use the cumulative daily return data to create box plots to visualize the volatility of 7 ETF and the S&P 500 \n",
    "# Include a title parameter and adjust the figure size\n",
    "etf_index_cumltv_rtns.plot(kind='box', figsize=(12,6), xlabel='ETF Indexes', title=\"Volatility of ETF Indexes\")"
   ]
  },
  {
   "cell_type": "code",
   "execution_count": 69,
   "id": "ce75e626-962e-4d49-9092-1a64a4dda21f",
   "metadata": {},
   "outputs": [],
   "source": [
    "# Top Crypto Coin Tickers by mkt-cap (no stable_coins) \n",
    "#crypto_tickers = ['BTC', 'ETH', 'XRP', 'LUNA', 'SOL', 'ADA']\n",
    "#crypto_tickers"
   ]
  },
  {
   "cell_type": "code",
   "execution_count": 70,
   "id": "d48698fd-e3d9-4621-a780-0be19e54d3b6",
   "metadata": {},
   "outputs": [
    {
     "data": {
      "text/plain": [
       "['BITO', 'BTF', 'XBTF']"
      ]
     },
     "execution_count": 70,
     "metadata": {},
     "output_type": "execute_result"
    }
   ],
   "source": [
    "# Top Crypto etf Coin Tickers\n",
    "#crypto_etf_tickers = ['BITO', 'BTF', 'XBTF'] \n",
    "#crypto_etf_tickers "
   ]
  },
  {
   "cell_type": "code",
   "execution_count": 71,
   "id": "68a6e709-fec9-4c0b-84f7-5c21ac07ba67",
   "metadata": {},
   "outputs": [],
   "source": [
    "# Set timeframe to one day (1Day)\n",
    "# timeframe=\"1Day\""
   ]
  },
  {
   "cell_type": "code",
   "execution_count": 72,
   "id": "483db445-be69-4ff7-9632-43317e7de77b",
   "metadata": {},
   "outputs": [],
   "source": [
    "#start_date = pd.Timestamp(\"2019-01-01\", tz=\"America/New_York\").isoformat()  \n",
    "#end_date = pd.Timestamp(\"2021-12-31\", tz=\"America/New_York\").isoformat() "
   ]
  },
  {
   "cell_type": "code",
   "execution_count": 73,
   "id": "e3751cac-1fe1-47ed-86ed-cb443dec6fc7",
   "metadata": {},
   "outputs": [],
   "source": [
    "# Use the Alpaca get_bars function to gather the price information for each ticker\n",
    "# Include the function parameters: tickers, timeframe, start, end, and limit \n",
    "#limit_rows = 10000\n",
    "# Be sure to call the df property to ensure that the returned information is set as a DataFrame\n",
    "#crypt_prices_df = alpaca.get_bars(crypto_tickers, timeframe, start=start_date, end=end_date).df\n",
    "#crypto_etf_prices = alpaca.get_bars(crypto_etf_tickers, timeframe, start=start_date, end=end_date).df\n",
    "# Reorganize the DataFrame\n",
    "# Separate ticker data\n",
    "#BTC = crypt_prices_df[crypt_prices_df['symbol']=='BTCUSD'].drop(['symbol', 'open', 'high', 'low', 'volume', 'trade_count', 'vwap'], axis=1)  \n",
    "#ETH = crypt_prices_df[crypt_prices_df['symbol']=='BTCUSD'].drop(['symbol', 'open', 'high', 'low', 'volume', 'trade_count', 'vwap'], axis=1)\n",
    "#XRP = crypt_prices_df[crypt_prices_df['symbol']=='XRP'].drop(['symbol', 'open', 'high', 'low', 'volume', 'trade_count', 'vwap'], axis=1)\n",
    "#LUNA = crypt_prices_df[crypt_prices_df['symbol']=='TRXUSD'].drop(['symbol', 'open', 'high', 'low', 'volume', 'trade_count', 'vwap'], axis=1) \n",
    "#SOL = crypt_prices_df[crypt_prices_df['symbol']=='SOLUSD'].drop(['symbol', 'open', 'high', 'low', 'volume', 'trade_count', 'vwap'], axis=1)\n",
    "#ADA = crypt_prices_df[crypt_prices_df['symbol']=='ADA'].drop(['symbol', 'open', 'high', 'low', 'volume', 'trade_count', 'vwap'], axis=1)\n",
    "#BITO = crypto_etf_prices[crypto_etf_prices['symbol']=='BITO'].drop(['symbol', 'open', 'high', 'low', 'volume', 'trade_count', 'vwap'], axis=1)\n",
    "#BTF = crypto_etf_prices[crypto_etf_prices['symbol']=='BTF'].drop(['symbol', 'open', 'high', 'low', 'volume', 'trade_count', 'vwap'], axis=1)\n",
    "#XBTF = crypto_etf_prices[crypto_etf_prices['symbol']=='XBTF'].drop(['symbol', 'open', 'high', 'low', 'volume', 'trade_count', 'vwap'], axis=1)                                              \n",
    "\n",
    "# Concatenate the ticker DataFrames\n",
    "#crypt_prices_df = pd.concat([BTC, ETH, XRP, LUNA, SOL], axis=1, keys=[\"BTC\", \"ETH\", \"XRP\", \"LUNA\", \"SOL\", \"ADA\"])\n",
    "#crypto_etf_prices = pd.concat([BITO, BTF, XBTF], axis=1, keys=[\"BITO\", \"BTF\", \"XBTF\"]) \n",
    "\n",
    "# Review the first five rows of the resulting DataFrame \n",
    "#display(crypto_etf_prices.head())\n",
    "#display(crypto_etf_prices.tail())  \n",
    "#error in not getting the designated start date from above code [start_date = pd.Timestamp(\"2019-01-01\"..)];=>>>[timestamp: 2021-10-19 04:00...]\n"
   ]
  },
  {
   "cell_type": "code",
   "execution_count": 74,
   "id": "7f3efe59-39da-4efc-8808-045380dde9ec",
   "metadata": {},
   "outputs": [],
   "source": [
    "#etf_prices_df.info() "
   ]
  },
  {
   "cell_type": "code",
   "execution_count": 75,
   "id": "1b72518d-da6c-4311-bf3e-8fc3dc4c2213",
   "metadata": {},
   "outputs": [],
   "source": [
    "#etf_prices_df.index "
   ]
  },
  {
   "cell_type": "code",
   "execution_count": 76,
   "id": "1514c6cf-ab4a-4f56-ac3a-0157b9ecf88e",
   "metadata": {},
   "outputs": [],
   "source": [
    "#etf_prices_df.columns "
   ]
  },
  {
   "cell_type": "code",
   "execution_count": 77,
   "id": "85cf72c9-d096-461e-9110-f47ffc6996ca",
   "metadata": {},
   "outputs": [],
   "source": [
    "# Create a Pandas DataFrame called etf_close_prices_df  \n",
    "#etf_close_prices = pd.DataFrame(etf_prices_df, columns=[('SPY','close'),('QQQ','close'),('VTWO','close'),('ARKK','close'),('RPV','close'),('BND','close')], index=[])  \n",
    "#prices_square_foot_by_year = housing_units_by_year.loc[:,['sale_price_sqr_foot', 'gross_rent']]\n",
    "# Display the savings_df DataFrame\n",
    "#etf_close_prices  "
   ]
  },
  {
   "cell_type": "code",
   "execution_count": 78,
   "id": "af57ae0e-e106-4983-812c-2ec758b9258e",
   "metadata": {},
   "outputs": [],
   "source": [
    "# Calculate the mean values for each neighborhood\n",
    "#etf_close_prices = etf_prices_df.groupby('timestamp').mean()  \n",
    "#etf_close_prices"
   ]
  },
  {
   "cell_type": "code",
   "execution_count": 79,
   "id": "5ae57b43-641c-483c-b585-638d4065da7b",
   "metadata": {},
   "outputs": [],
   "source": [
    " # this runs\n",
    "#etf_close_prices = etf_prices_df.drop(columns=[('SPY', 'open'), ( 'SPY', 'high'), ( 'SPY', 'low'), ( 'SPY', 'volume'), \n",
    "#        ( 'SPY','trade_count'), ( 'SPY', 'vwap'), ( 'QQQ', 'open'),  ( 'QQQ',  'high'), ( 'QQQ', 'low'), ( 'QQQ', 'volume'), \n",
    "#        ( 'QQQ', 'trade_count'), ( 'QQQ', 'vwap'), ('VTWO', 'open'), ('VTWO', 'high'),  ('VTWO', 'low'), ('VTWO', 'volume'), \n",
    "#        ('VTWO', 'trade_count'), ('VTWO', 'vwap'), ('ARKK', 'open'), ('ARKK', 'high'),  ('ARKK', 'low'), ('ARKK', 'volume'), \n",
    "#        ('ARKK', 'trade_count'), ('ARKK', 'vwap'), ('RPV',  'open'), ( 'RPV', 'high'),  ( 'RPV', 'low'), ( 'RPV', 'volume'),\n",
    "#        ( 'RPV', 'trade_count'),  ( 'RPV', 'vwap'), ( 'BND', 'open'), ( 'BND', 'high'),  ( 'BND', 'low'), ( 'BND', 'volume'), \n",
    "#        ( 'BND', 'trade_count'),  ( 'BND', 'vwap')])\n",
    "            \n",
    "# Review the resulting DataFrame\n",
    "#etf_close_prices"
   ]
  },
  {
   "cell_type": "code",
   "execution_count": 80,
   "id": "53c73ae8-0890-45e7-851d-14d2aca8f437",
   "metadata": {},
   "outputs": [],
   "source": [
    "# this doesn't run\n",
    "# Create a numerical aggregation by grouping the data by year and averaging the results\n",
    "#etf_close_prices_df = etf_prices_df.groupby([('timestamp'), ('SPY', 'close'), ('QQQ', 'close')]) \n",
    "\n",
    "# Review the resulting DataFrame\n",
    "#etf_close_prices_df \n",
    "#<pandas.core.groupby.generic.DataFrameGroupBy object at 0x0000029A587ED5E0>"
   ]
  },
  {
   "cell_type": "code",
   "execution_count": 81,
   "id": "b8219c4a-4f15-4f15-b7ed-93810581ac2c",
   "metadata": {},
   "outputs": [],
   "source": [
    "# Filter out the 'close' column, creating a new DataFrame \n",
    "# Keep only timestamp and close\n",
    "# etf_close_prices_df = etf_close_prices_df[['timestamp', 'close']]  \n",
    "# prices_square_foot_by_year = housing_units_by_year.loc[:,['sale_price_sqr_foot', 'gross_rent']]\n",
    "# prices_square_foot_by_year = prices_square_foot_by_year.drop(columns=['housing_units'])\n",
    "\n",
    "# Review the DataFrame\n",
    "#etf_close_prices_df.head \n",
    "#<bound method GroupBy.head of <pandas.core.groupby.generic.DataFrameGroupBy object at 0x0000029A58D4BDF0>>"
   ]
  },
  {
   "cell_type": "code",
   "execution_count": 82,
   "id": "1c87c4b2-db4d-4e4b-91f0-ca9b50618984",
   "metadata": {},
   "outputs": [
    {
     "data": {
      "text/html": [
       "<div>\n",
       "<style scoped>\n",
       "    .dataframe tbody tr th:only-of-type {\n",
       "        vertical-align: middle;\n",
       "    }\n",
       "\n",
       "    .dataframe tbody tr th {\n",
       "        vertical-align: top;\n",
       "    }\n",
       "\n",
       "    .dataframe thead tr th {\n",
       "        text-align: left;\n",
       "    }\n",
       "\n",
       "    .dataframe thead tr:last-of-type th {\n",
       "        text-align: right;\n",
       "    }\n",
       "</style>\n",
       "<table border=\"1\" class=\"dataframe\">\n",
       "  <thead>\n",
       "    <tr>\n",
       "      <th></th>\n",
       "      <th>SPY</th>\n",
       "      <th>QQQ</th>\n",
       "      <th>VTWO</th>\n",
       "      <th>RPV</th>\n",
       "      <th>BND</th>\n",
       "    </tr>\n",
       "    <tr>\n",
       "      <th></th>\n",
       "      <th>close</th>\n",
       "      <th>close</th>\n",
       "      <th>close</th>\n",
       "      <th>close</th>\n",
       "      <th>close</th>\n",
       "    </tr>\n",
       "    <tr>\n",
       "      <th>timestamp</th>\n",
       "      <th></th>\n",
       "      <th></th>\n",
       "      <th></th>\n",
       "      <th></th>\n",
       "      <th></th>\n",
       "    </tr>\n",
       "  </thead>\n",
       "  <tbody>\n",
       "    <tr>\n",
       "      <th>2019-01-02 05:00:00+00:00</th>\n",
       "      <td>250.18</td>\n",
       "      <td>154.88</td>\n",
       "      <td>108.17</td>\n",
       "      <td>57.50</td>\n",
       "      <td>79.37</td>\n",
       "    </tr>\n",
       "    <tr>\n",
       "      <th>2019-01-03 05:00:00+00:00</th>\n",
       "      <td>244.21</td>\n",
       "      <td>149.82</td>\n",
       "      <td>106.12</td>\n",
       "      <td>56.65</td>\n",
       "      <td>79.68</td>\n",
       "    </tr>\n",
       "    <tr>\n",
       "      <th>2019-01-04 05:00:00+00:00</th>\n",
       "      <td>252.39</td>\n",
       "      <td>156.23</td>\n",
       "      <td>110.05</td>\n",
       "      <td>58.69</td>\n",
       "      <td>79.44</td>\n",
       "    </tr>\n",
       "    <tr>\n",
       "      <th>2019-01-07 05:00:00+00:00</th>\n",
       "      <td>254.38</td>\n",
       "      <td>158.09</td>\n",
       "      <td>112.12</td>\n",
       "      <td>59.30</td>\n",
       "      <td>79.32</td>\n",
       "    </tr>\n",
       "    <tr>\n",
       "      <th>2019-01-08 05:00:00+00:00</th>\n",
       "      <td>256.77</td>\n",
       "      <td>159.52</td>\n",
       "      <td>113.83</td>\n",
       "      <td>59.69</td>\n",
       "      <td>79.22</td>\n",
       "    </tr>\n",
       "    <tr>\n",
       "      <th>...</th>\n",
       "      <td>...</td>\n",
       "      <td>...</td>\n",
       "      <td>...</td>\n",
       "      <td>...</td>\n",
       "      <td>...</td>\n",
       "    </tr>\n",
       "    <tr>\n",
       "      <th>2021-12-27 05:00:00+00:00</th>\n",
       "      <td>477.26</td>\n",
       "      <td>403.48</td>\n",
       "      <td>90.35</td>\n",
       "      <td>80.29</td>\n",
       "      <td>84.87</td>\n",
       "    </tr>\n",
       "    <tr>\n",
       "      <th>2021-12-28 05:00:00+00:00</th>\n",
       "      <td>476.87</td>\n",
       "      <td>401.61</td>\n",
       "      <td>89.83</td>\n",
       "      <td>80.68</td>\n",
       "      <td>84.86</td>\n",
       "    </tr>\n",
       "    <tr>\n",
       "      <th>2021-12-29 05:00:00+00:00</th>\n",
       "      <td>477.48</td>\n",
       "      <td>401.55</td>\n",
       "      <td>89.90</td>\n",
       "      <td>80.88</td>\n",
       "      <td>84.58</td>\n",
       "    </tr>\n",
       "    <tr>\n",
       "      <th>2021-12-30 05:00:00+00:00</th>\n",
       "      <td>476.16</td>\n",
       "      <td>400.35</td>\n",
       "      <td>89.91</td>\n",
       "      <td>80.80</td>\n",
       "      <td>84.77</td>\n",
       "    </tr>\n",
       "    <tr>\n",
       "      <th>2021-12-31 05:00:00+00:00</th>\n",
       "      <td>474.96</td>\n",
       "      <td>397.85</td>\n",
       "      <td>89.81</td>\n",
       "      <td>80.83</td>\n",
       "      <td>84.75</td>\n",
       "    </tr>\n",
       "  </tbody>\n",
       "</table>\n",
       "<p>757 rows × 5 columns</p>\n",
       "</div>"
      ],
      "text/plain": [
       "                              SPY     QQQ    VTWO    RPV    BND\n",
       "                            close   close   close  close  close\n",
       "timestamp                                                      \n",
       "2019-01-02 05:00:00+00:00  250.18  154.88  108.17  57.50  79.37\n",
       "2019-01-03 05:00:00+00:00  244.21  149.82  106.12  56.65  79.68\n",
       "2019-01-04 05:00:00+00:00  252.39  156.23  110.05  58.69  79.44\n",
       "2019-01-07 05:00:00+00:00  254.38  158.09  112.12  59.30  79.32\n",
       "2019-01-08 05:00:00+00:00  256.77  159.52  113.83  59.69  79.22\n",
       "...                           ...     ...     ...    ...    ...\n",
       "2021-12-27 05:00:00+00:00  477.26  403.48   90.35  80.29  84.87\n",
       "2021-12-28 05:00:00+00:00  476.87  401.61   89.83  80.68  84.86\n",
       "2021-12-29 05:00:00+00:00  477.48  401.55   89.90  80.88  84.58\n",
       "2021-12-30 05:00:00+00:00  476.16  400.35   89.91  80.80  84.77\n",
       "2021-12-31 05:00:00+00:00  474.96  397.85   89.81  80.83  84.75\n",
       "\n",
       "[757 rows x 5 columns]"
      ]
     },
     "execution_count": 82,
     "metadata": {},
     "output_type": "execute_result"
    }
   ],
   "source": [
    "etf_bal_prices = etf_prices_df.drop(columns=[('ARKK', 'close'), ( 'BITO', 'close')])\n",
    "etf_bal_prices"
   ]
  },
  {
   "cell_type": "markdown",
   "id": "8300e3f7-bccd-4975-9966-71f9e85283ef",
   "metadata": {},
   "source": [
    "### Step 6: Create an instance of MCSimulation with the following parameters that simulates the next 2 years of portfolio returns:\n",
    "weights: Set this parameter to [.20,.20,.20,.20,.20] to evenly invest for major index and asset class ETFs.\n",
    "num_simulation: Set this parameter to 500 to ensure the reliability of your simulation. \n",
    "num_trading_days: Set this parameter to 252*2 to simulate 2 years of trading days."
   ]
  },
  {
   "cell_type": "code",
   "execution_count": 53,
   "id": "c439ef1c-09fa-435b-b067-39b90cc93b8b",
   "metadata": {},
   "outputs": [
    {
     "data": {
      "text/html": [
       "<div>\n",
       "<style scoped>\n",
       "    .dataframe tbody tr th:only-of-type {\n",
       "        vertical-align: middle;\n",
       "    }\n",
       "\n",
       "    .dataframe tbody tr th {\n",
       "        vertical-align: top;\n",
       "    }\n",
       "\n",
       "    .dataframe thead tr th {\n",
       "        text-align: left;\n",
       "    }\n",
       "\n",
       "    .dataframe thead tr:last-of-type th {\n",
       "        text-align: right;\n",
       "    }\n",
       "</style>\n",
       "<table border=\"1\" class=\"dataframe\">\n",
       "  <thead>\n",
       "    <tr>\n",
       "      <th></th>\n",
       "      <th colspan=\"2\" halign=\"left\">SPY</th>\n",
       "      <th colspan=\"2\" halign=\"left\">QQQ</th>\n",
       "      <th colspan=\"2\" halign=\"left\">VTWO</th>\n",
       "      <th colspan=\"2\" halign=\"left\">RPV</th>\n",
       "      <th colspan=\"2\" halign=\"left\">BND</th>\n",
       "    </tr>\n",
       "    <tr>\n",
       "      <th></th>\n",
       "      <th>close</th>\n",
       "      <th>daily_return</th>\n",
       "      <th>close</th>\n",
       "      <th>daily_return</th>\n",
       "      <th>close</th>\n",
       "      <th>daily_return</th>\n",
       "      <th>close</th>\n",
       "      <th>daily_return</th>\n",
       "      <th>close</th>\n",
       "      <th>daily_return</th>\n",
       "    </tr>\n",
       "    <tr>\n",
       "      <th>timestamp</th>\n",
       "      <th></th>\n",
       "      <th></th>\n",
       "      <th></th>\n",
       "      <th></th>\n",
       "      <th></th>\n",
       "      <th></th>\n",
       "      <th></th>\n",
       "      <th></th>\n",
       "      <th></th>\n",
       "      <th></th>\n",
       "    </tr>\n",
       "  </thead>\n",
       "  <tbody>\n",
       "    <tr>\n",
       "      <th>2019-01-02 05:00:00+00:00</th>\n",
       "      <td>250.18</td>\n",
       "      <td>NaN</td>\n",
       "      <td>154.88</td>\n",
       "      <td>NaN</td>\n",
       "      <td>108.17</td>\n",
       "      <td>NaN</td>\n",
       "      <td>57.50</td>\n",
       "      <td>NaN</td>\n",
       "      <td>79.37</td>\n",
       "      <td>NaN</td>\n",
       "    </tr>\n",
       "    <tr>\n",
       "      <th>2019-01-03 05:00:00+00:00</th>\n",
       "      <td>244.21</td>\n",
       "      <td>-0.023863</td>\n",
       "      <td>149.82</td>\n",
       "      <td>-0.032670</td>\n",
       "      <td>106.12</td>\n",
       "      <td>-0.018952</td>\n",
       "      <td>56.65</td>\n",
       "      <td>-0.014783</td>\n",
       "      <td>79.68</td>\n",
       "      <td>0.003906</td>\n",
       "    </tr>\n",
       "    <tr>\n",
       "      <th>2019-01-04 05:00:00+00:00</th>\n",
       "      <td>252.39</td>\n",
       "      <td>0.033496</td>\n",
       "      <td>156.23</td>\n",
       "      <td>0.042785</td>\n",
       "      <td>110.05</td>\n",
       "      <td>0.037034</td>\n",
       "      <td>58.69</td>\n",
       "      <td>0.036011</td>\n",
       "      <td>79.44</td>\n",
       "      <td>-0.003012</td>\n",
       "    </tr>\n",
       "    <tr>\n",
       "      <th>2019-01-07 05:00:00+00:00</th>\n",
       "      <td>254.38</td>\n",
       "      <td>0.007885</td>\n",
       "      <td>158.09</td>\n",
       "      <td>0.011906</td>\n",
       "      <td>112.12</td>\n",
       "      <td>0.018810</td>\n",
       "      <td>59.30</td>\n",
       "      <td>0.010394</td>\n",
       "      <td>79.32</td>\n",
       "      <td>-0.001511</td>\n",
       "    </tr>\n",
       "    <tr>\n",
       "      <th>2019-01-08 05:00:00+00:00</th>\n",
       "      <td>256.77</td>\n",
       "      <td>0.009395</td>\n",
       "      <td>159.52</td>\n",
       "      <td>0.009045</td>\n",
       "      <td>113.83</td>\n",
       "      <td>0.015252</td>\n",
       "      <td>59.69</td>\n",
       "      <td>0.006577</td>\n",
       "      <td>79.22</td>\n",
       "      <td>-0.001261</td>\n",
       "    </tr>\n",
       "  </tbody>\n",
       "</table>\n",
       "</div>"
      ],
      "text/plain": [
       "                              SPY                  QQQ                 VTWO  \\\n",
       "                            close daily_return   close daily_return   close   \n",
       "timestamp                                                                     \n",
       "2019-01-02 05:00:00+00:00  250.18          NaN  154.88          NaN  108.17   \n",
       "2019-01-03 05:00:00+00:00  244.21    -0.023863  149.82    -0.032670  106.12   \n",
       "2019-01-04 05:00:00+00:00  252.39     0.033496  156.23     0.042785  110.05   \n",
       "2019-01-07 05:00:00+00:00  254.38     0.007885  158.09     0.011906  112.12   \n",
       "2019-01-08 05:00:00+00:00  256.77     0.009395  159.52     0.009045  113.83   \n",
       "\n",
       "                                          RPV                 BND               \n",
       "                          daily_return  close daily_return  close daily_return  \n",
       "timestamp                                                                       \n",
       "2019-01-02 05:00:00+00:00          NaN  57.50          NaN  79.37          NaN  \n",
       "2019-01-03 05:00:00+00:00    -0.018952  56.65    -0.014783  79.68     0.003906  \n",
       "2019-01-04 05:00:00+00:00     0.037034  58.69     0.036011  79.44    -0.003012  \n",
       "2019-01-07 05:00:00+00:00     0.018810  59.30     0.010394  79.32    -0.001511  \n",
       "2019-01-08 05:00:00+00:00     0.015252  59.69     0.006577  79.22    -0.001261  "
      ]
     },
     "execution_count": 53,
     "metadata": {},
     "output_type": "execute_result"
    }
   ],
   "source": [
    "# Configure a Monte Carlo simulation to forecast 3 years cumulative returns\n",
    "# Use an even weight of .20 across all 5 stocks\n",
    "MC_even_weight = MCSimulation(\n",
    "    portfolio_data = etf_bal_prices,\n",
    "    weights = [.20,.20,.20,.20,.20],\n",
    "    num_simulation = 500,\n",
    "    num_trading_days = 252*2)\n",
    "\n",
    "# Printing the first five rows of the simulation input data\n",
    "MC_even_weight.portfolio_data.head() "
   ]
  },
  {
   "cell_type": "code",
   "execution_count": 54,
   "id": "4d648b74-7a15-4e74-8e1e-4b2cf4e0fa54",
   "metadata": {},
   "outputs": [],
   "source": [
    "#whales_spx_cumltv_rtns = (1 + whales_spx_daily_rtns).cumprod()\n",
    "\n",
    "#whales_spx_cumltv_rtns.tail() "
   ]
  },
  {
   "cell_type": "markdown",
   "id": "38e7afbc-2353-4959-b341-0c96700870ef",
   "metadata": {},
   "source": [
    "### Step 7: Run the Monte Carlo simulation. Using MCSimulation functions, visualize the simulation results by using both an overlay line plot and a histogram. Generate the summary statistics for the simulation."
   ]
  },
  {
   "cell_type": "code",
   "execution_count": 55,
   "id": "b024f76a-f3b4-4176-8c5b-9ebd5ff2e086",
   "metadata": {},
   "outputs": [
    {
     "name": "stdout",
     "output_type": "stream",
     "text": [
      "Running Monte Carlo simulation number 0.\n",
      "Running Monte Carlo simulation number 10.\n",
      "Running Monte Carlo simulation number 20.\n",
      "Running Monte Carlo simulation number 30.\n",
      "Running Monte Carlo simulation number 40.\n",
      "Running Monte Carlo simulation number 50.\n",
      "Running Monte Carlo simulation number 60.\n",
      "Running Monte Carlo simulation number 70.\n",
      "Running Monte Carlo simulation number 80.\n",
      "Running Monte Carlo simulation number 90.\n",
      "Running Monte Carlo simulation number 100.\n"
     ]
    },
    {
     "name": "stderr",
     "output_type": "stream",
     "text": [
      "C:\\Users\\gotha\\Onedrive\\Desktop\\FinTek-Workspace\\Mod8_Wrkspc\\M8P1-ForeCast_Program\\MCForecastTools.py:117: PerformanceWarning: DataFrame is highly fragmented.  This is usually the result of calling `frame.insert` many times, which has poor performance.  Consider joining all columns at once using pd.concat(axis=1) instead.  To get a de-fragmented frame, use `newframe = frame.copy()`\n",
      "  portfolio_cumulative_returns[n] = (1 + sim_df.fillna(0)).cumprod()\n"
     ]
    },
    {
     "name": "stdout",
     "output_type": "stream",
     "text": [
      "Running Monte Carlo simulation number 110.\n",
      "Running Monte Carlo simulation number 120.\n",
      "Running Monte Carlo simulation number 130.\n",
      "Running Monte Carlo simulation number 140.\n",
      "Running Monte Carlo simulation number 150.\n",
      "Running Monte Carlo simulation number 160.\n",
      "Running Monte Carlo simulation number 170.\n",
      "Running Monte Carlo simulation number 180.\n",
      "Running Monte Carlo simulation number 190.\n",
      "Running Monte Carlo simulation number 200.\n",
      "Running Monte Carlo simulation number 210.\n",
      "Running Monte Carlo simulation number 220.\n",
      "Running Monte Carlo simulation number 230.\n",
      "Running Monte Carlo simulation number 240.\n",
      "Running Monte Carlo simulation number 250.\n",
      "Running Monte Carlo simulation number 260.\n",
      "Running Monte Carlo simulation number 270.\n",
      "Running Monte Carlo simulation number 280.\n",
      "Running Monte Carlo simulation number 290.\n",
      "Running Monte Carlo simulation number 300.\n",
      "Running Monte Carlo simulation number 310.\n",
      "Running Monte Carlo simulation number 320.\n",
      "Running Monte Carlo simulation number 330.\n",
      "Running Monte Carlo simulation number 340.\n",
      "Running Monte Carlo simulation number 350.\n",
      "Running Monte Carlo simulation number 360.\n",
      "Running Monte Carlo simulation number 370.\n",
      "Running Monte Carlo simulation number 380.\n",
      "Running Monte Carlo simulation number 390.\n",
      "Running Monte Carlo simulation number 400.\n",
      "Running Monte Carlo simulation number 410.\n",
      "Running Monte Carlo simulation number 420.\n",
      "Running Monte Carlo simulation number 430.\n",
      "Running Monte Carlo simulation number 440.\n",
      "Running Monte Carlo simulation number 450.\n",
      "Running Monte Carlo simulation number 460.\n",
      "Running Monte Carlo simulation number 470.\n",
      "Running Monte Carlo simulation number 480.\n",
      "Running Monte Carlo simulation number 490.\n"
     ]
    },
    {
     "data": {
      "text/html": [
       "<div>\n",
       "<style scoped>\n",
       "    .dataframe tbody tr th:only-of-type {\n",
       "        vertical-align: middle;\n",
       "    }\n",
       "\n",
       "    .dataframe tbody tr th {\n",
       "        vertical-align: top;\n",
       "    }\n",
       "\n",
       "    .dataframe thead th {\n",
       "        text-align: right;\n",
       "    }\n",
       "</style>\n",
       "<table border=\"1\" class=\"dataframe\">\n",
       "  <thead>\n",
       "    <tr style=\"text-align: right;\">\n",
       "      <th></th>\n",
       "      <th>0</th>\n",
       "      <th>1</th>\n",
       "      <th>2</th>\n",
       "      <th>3</th>\n",
       "      <th>4</th>\n",
       "      <th>5</th>\n",
       "      <th>6</th>\n",
       "      <th>7</th>\n",
       "      <th>8</th>\n",
       "      <th>9</th>\n",
       "      <th>...</th>\n",
       "      <th>490</th>\n",
       "      <th>491</th>\n",
       "      <th>492</th>\n",
       "      <th>493</th>\n",
       "      <th>494</th>\n",
       "      <th>495</th>\n",
       "      <th>496</th>\n",
       "      <th>497</th>\n",
       "      <th>498</th>\n",
       "      <th>499</th>\n",
       "    </tr>\n",
       "  </thead>\n",
       "  <tbody>\n",
       "    <tr>\n",
       "      <th>0</th>\n",
       "      <td>1.000000</td>\n",
       "      <td>1.000000</td>\n",
       "      <td>1.000000</td>\n",
       "      <td>1.000000</td>\n",
       "      <td>1.000000</td>\n",
       "      <td>1.000000</td>\n",
       "      <td>1.000000</td>\n",
       "      <td>1.000000</td>\n",
       "      <td>1.000000</td>\n",
       "      <td>1.000000</td>\n",
       "      <td>...</td>\n",
       "      <td>1.000000</td>\n",
       "      <td>1.000000</td>\n",
       "      <td>1.000000</td>\n",
       "      <td>1.000000</td>\n",
       "      <td>1.000000</td>\n",
       "      <td>1.000000</td>\n",
       "      <td>1.000000</td>\n",
       "      <td>1.000000</td>\n",
       "      <td>1.000000</td>\n",
       "      <td>1.000000</td>\n",
       "    </tr>\n",
       "    <tr>\n",
       "      <th>1</th>\n",
       "      <td>0.994638</td>\n",
       "      <td>0.996040</td>\n",
       "      <td>0.995146</td>\n",
       "      <td>1.012359</td>\n",
       "      <td>0.990607</td>\n",
       "      <td>1.000579</td>\n",
       "      <td>0.990423</td>\n",
       "      <td>0.995879</td>\n",
       "      <td>1.006884</td>\n",
       "      <td>0.986210</td>\n",
       "      <td>...</td>\n",
       "      <td>1.002402</td>\n",
       "      <td>0.990743</td>\n",
       "      <td>0.995614</td>\n",
       "      <td>1.008474</td>\n",
       "      <td>1.011946</td>\n",
       "      <td>0.997417</td>\n",
       "      <td>0.995106</td>\n",
       "      <td>0.997832</td>\n",
       "      <td>1.008685</td>\n",
       "      <td>1.006571</td>\n",
       "    </tr>\n",
       "    <tr>\n",
       "      <th>2</th>\n",
       "      <td>0.996540</td>\n",
       "      <td>1.005151</td>\n",
       "      <td>0.988825</td>\n",
       "      <td>0.999452</td>\n",
       "      <td>1.005195</td>\n",
       "      <td>0.994712</td>\n",
       "      <td>0.982599</td>\n",
       "      <td>1.001027</td>\n",
       "      <td>1.012560</td>\n",
       "      <td>0.972262</td>\n",
       "      <td>...</td>\n",
       "      <td>1.001704</td>\n",
       "      <td>0.985206</td>\n",
       "      <td>0.997773</td>\n",
       "      <td>1.010467</td>\n",
       "      <td>1.014143</td>\n",
       "      <td>0.998410</td>\n",
       "      <td>1.006919</td>\n",
       "      <td>0.977902</td>\n",
       "      <td>1.009178</td>\n",
       "      <td>1.023087</td>\n",
       "    </tr>\n",
       "    <tr>\n",
       "      <th>3</th>\n",
       "      <td>0.986983</td>\n",
       "      <td>1.009765</td>\n",
       "      <td>0.983101</td>\n",
       "      <td>1.019388</td>\n",
       "      <td>1.000877</td>\n",
       "      <td>0.998008</td>\n",
       "      <td>0.981787</td>\n",
       "      <td>0.992486</td>\n",
       "      <td>1.017529</td>\n",
       "      <td>0.956232</td>\n",
       "      <td>...</td>\n",
       "      <td>0.995475</td>\n",
       "      <td>0.977847</td>\n",
       "      <td>0.985659</td>\n",
       "      <td>0.999738</td>\n",
       "      <td>1.017208</td>\n",
       "      <td>0.993377</td>\n",
       "      <td>1.001536</td>\n",
       "      <td>0.984475</td>\n",
       "      <td>1.015120</td>\n",
       "      <td>1.032657</td>\n",
       "    </tr>\n",
       "    <tr>\n",
       "      <th>4</th>\n",
       "      <td>0.989130</td>\n",
       "      <td>1.020079</td>\n",
       "      <td>0.973919</td>\n",
       "      <td>1.035242</td>\n",
       "      <td>1.000084</td>\n",
       "      <td>0.988648</td>\n",
       "      <td>0.996662</td>\n",
       "      <td>1.004442</td>\n",
       "      <td>1.010048</td>\n",
       "      <td>0.957109</td>\n",
       "      <td>...</td>\n",
       "      <td>0.990837</td>\n",
       "      <td>0.975038</td>\n",
       "      <td>0.977680</td>\n",
       "      <td>0.997275</td>\n",
       "      <td>1.012296</td>\n",
       "      <td>0.992485</td>\n",
       "      <td>1.008642</td>\n",
       "      <td>0.993625</td>\n",
       "      <td>1.010664</td>\n",
       "      <td>1.022251</td>\n",
       "    </tr>\n",
       "    <tr>\n",
       "      <th>...</th>\n",
       "      <td>...</td>\n",
       "      <td>...</td>\n",
       "      <td>...</td>\n",
       "      <td>...</td>\n",
       "      <td>...</td>\n",
       "      <td>...</td>\n",
       "      <td>...</td>\n",
       "      <td>...</td>\n",
       "      <td>...</td>\n",
       "      <td>...</td>\n",
       "      <td>...</td>\n",
       "      <td>...</td>\n",
       "      <td>...</td>\n",
       "      <td>...</td>\n",
       "      <td>...</td>\n",
       "      <td>...</td>\n",
       "      <td>...</td>\n",
       "      <td>...</td>\n",
       "      <td>...</td>\n",
       "      <td>...</td>\n",
       "      <td>...</td>\n",
       "    </tr>\n",
       "    <tr>\n",
       "      <th>500</th>\n",
       "      <td>1.316119</td>\n",
       "      <td>1.417666</td>\n",
       "      <td>1.341136</td>\n",
       "      <td>1.350878</td>\n",
       "      <td>1.657847</td>\n",
       "      <td>1.010991</td>\n",
       "      <td>1.598311</td>\n",
       "      <td>1.416383</td>\n",
       "      <td>1.479509</td>\n",
       "      <td>1.613785</td>\n",
       "      <td>...</td>\n",
       "      <td>1.494965</td>\n",
       "      <td>1.140961</td>\n",
       "      <td>1.652812</td>\n",
       "      <td>1.381244</td>\n",
       "      <td>1.488069</td>\n",
       "      <td>1.113318</td>\n",
       "      <td>1.811138</td>\n",
       "      <td>1.474809</td>\n",
       "      <td>1.588992</td>\n",
       "      <td>1.387866</td>\n",
       "    </tr>\n",
       "    <tr>\n",
       "      <th>501</th>\n",
       "      <td>1.321362</td>\n",
       "      <td>1.412579</td>\n",
       "      <td>1.336661</td>\n",
       "      <td>1.341382</td>\n",
       "      <td>1.664846</td>\n",
       "      <td>1.023957</td>\n",
       "      <td>1.596707</td>\n",
       "      <td>1.424193</td>\n",
       "      <td>1.483922</td>\n",
       "      <td>1.618350</td>\n",
       "      <td>...</td>\n",
       "      <td>1.491294</td>\n",
       "      <td>1.148098</td>\n",
       "      <td>1.659834</td>\n",
       "      <td>1.382003</td>\n",
       "      <td>1.496961</td>\n",
       "      <td>1.110893</td>\n",
       "      <td>1.823828</td>\n",
       "      <td>1.487307</td>\n",
       "      <td>1.586911</td>\n",
       "      <td>1.391411</td>\n",
       "    </tr>\n",
       "    <tr>\n",
       "      <th>502</th>\n",
       "      <td>1.320595</td>\n",
       "      <td>1.406823</td>\n",
       "      <td>1.325341</td>\n",
       "      <td>1.335876</td>\n",
       "      <td>1.675795</td>\n",
       "      <td>1.027763</td>\n",
       "      <td>1.590842</td>\n",
       "      <td>1.426773</td>\n",
       "      <td>1.481830</td>\n",
       "      <td>1.612728</td>\n",
       "      <td>...</td>\n",
       "      <td>1.504740</td>\n",
       "      <td>1.147750</td>\n",
       "      <td>1.670464</td>\n",
       "      <td>1.369263</td>\n",
       "      <td>1.514982</td>\n",
       "      <td>1.115758</td>\n",
       "      <td>1.849537</td>\n",
       "      <td>1.499466</td>\n",
       "      <td>1.577603</td>\n",
       "      <td>1.393681</td>\n",
       "    </tr>\n",
       "    <tr>\n",
       "      <th>503</th>\n",
       "      <td>1.318107</td>\n",
       "      <td>1.407223</td>\n",
       "      <td>1.316804</td>\n",
       "      <td>1.350420</td>\n",
       "      <td>1.652975</td>\n",
       "      <td>1.023553</td>\n",
       "      <td>1.601821</td>\n",
       "      <td>1.434636</td>\n",
       "      <td>1.496573</td>\n",
       "      <td>1.627850</td>\n",
       "      <td>...</td>\n",
       "      <td>1.492906</td>\n",
       "      <td>1.156925</td>\n",
       "      <td>1.657977</td>\n",
       "      <td>1.364066</td>\n",
       "      <td>1.519279</td>\n",
       "      <td>1.105492</td>\n",
       "      <td>1.832840</td>\n",
       "      <td>1.486946</td>\n",
       "      <td>1.573764</td>\n",
       "      <td>1.391749</td>\n",
       "    </tr>\n",
       "    <tr>\n",
       "      <th>504</th>\n",
       "      <td>1.318387</td>\n",
       "      <td>1.409958</td>\n",
       "      <td>1.331741</td>\n",
       "      <td>1.369811</td>\n",
       "      <td>1.660945</td>\n",
       "      <td>1.048959</td>\n",
       "      <td>1.615275</td>\n",
       "      <td>1.425312</td>\n",
       "      <td>1.475368</td>\n",
       "      <td>1.625114</td>\n",
       "      <td>...</td>\n",
       "      <td>1.473664</td>\n",
       "      <td>1.161024</td>\n",
       "      <td>1.664491</td>\n",
       "      <td>1.357407</td>\n",
       "      <td>1.520130</td>\n",
       "      <td>1.098045</td>\n",
       "      <td>1.835190</td>\n",
       "      <td>1.508065</td>\n",
       "      <td>1.583054</td>\n",
       "      <td>1.400771</td>\n",
       "    </tr>\n",
       "  </tbody>\n",
       "</table>\n",
       "<p>505 rows × 500 columns</p>\n",
       "</div>"
      ],
      "text/plain": [
       "          0         1         2         3         4         5         6    \\\n",
       "0    1.000000  1.000000  1.000000  1.000000  1.000000  1.000000  1.000000   \n",
       "1    0.994638  0.996040  0.995146  1.012359  0.990607  1.000579  0.990423   \n",
       "2    0.996540  1.005151  0.988825  0.999452  1.005195  0.994712  0.982599   \n",
       "3    0.986983  1.009765  0.983101  1.019388  1.000877  0.998008  0.981787   \n",
       "4    0.989130  1.020079  0.973919  1.035242  1.000084  0.988648  0.996662   \n",
       "..        ...       ...       ...       ...       ...       ...       ...   \n",
       "500  1.316119  1.417666  1.341136  1.350878  1.657847  1.010991  1.598311   \n",
       "501  1.321362  1.412579  1.336661  1.341382  1.664846  1.023957  1.596707   \n",
       "502  1.320595  1.406823  1.325341  1.335876  1.675795  1.027763  1.590842   \n",
       "503  1.318107  1.407223  1.316804  1.350420  1.652975  1.023553  1.601821   \n",
       "504  1.318387  1.409958  1.331741  1.369811  1.660945  1.048959  1.615275   \n",
       "\n",
       "          7         8         9    ...       490       491       492  \\\n",
       "0    1.000000  1.000000  1.000000  ...  1.000000  1.000000  1.000000   \n",
       "1    0.995879  1.006884  0.986210  ...  1.002402  0.990743  0.995614   \n",
       "2    1.001027  1.012560  0.972262  ...  1.001704  0.985206  0.997773   \n",
       "3    0.992486  1.017529  0.956232  ...  0.995475  0.977847  0.985659   \n",
       "4    1.004442  1.010048  0.957109  ...  0.990837  0.975038  0.977680   \n",
       "..        ...       ...       ...  ...       ...       ...       ...   \n",
       "500  1.416383  1.479509  1.613785  ...  1.494965  1.140961  1.652812   \n",
       "501  1.424193  1.483922  1.618350  ...  1.491294  1.148098  1.659834   \n",
       "502  1.426773  1.481830  1.612728  ...  1.504740  1.147750  1.670464   \n",
       "503  1.434636  1.496573  1.627850  ...  1.492906  1.156925  1.657977   \n",
       "504  1.425312  1.475368  1.625114  ...  1.473664  1.161024  1.664491   \n",
       "\n",
       "          493       494       495       496       497       498       499  \n",
       "0    1.000000  1.000000  1.000000  1.000000  1.000000  1.000000  1.000000  \n",
       "1    1.008474  1.011946  0.997417  0.995106  0.997832  1.008685  1.006571  \n",
       "2    1.010467  1.014143  0.998410  1.006919  0.977902  1.009178  1.023087  \n",
       "3    0.999738  1.017208  0.993377  1.001536  0.984475  1.015120  1.032657  \n",
       "4    0.997275  1.012296  0.992485  1.008642  0.993625  1.010664  1.022251  \n",
       "..        ...       ...       ...       ...       ...       ...       ...  \n",
       "500  1.381244  1.488069  1.113318  1.811138  1.474809  1.588992  1.387866  \n",
       "501  1.382003  1.496961  1.110893  1.823828  1.487307  1.586911  1.391411  \n",
       "502  1.369263  1.514982  1.115758  1.849537  1.499466  1.577603  1.393681  \n",
       "503  1.364066  1.519279  1.105492  1.832840  1.486946  1.573764  1.391749  \n",
       "504  1.357407  1.520130  1.098045  1.835190  1.508065  1.583054  1.400771  \n",
       "\n",
       "[505 rows x 500 columns]"
      ]
     },
     "execution_count": 55,
     "metadata": {},
     "output_type": "execute_result"
    }
   ],
   "source": [
    "# Run a Monte Carlo simulation to forecast five years cumulative returns\n",
    "MC_even_weight.calc_cumulative_return()"
   ]
  },
  {
   "cell_type": "code",
   "execution_count": 85,
   "id": "b6270f87-6efe-4611-ae76-833a611b80cd",
   "metadata": {},
   "outputs": [
    {
     "data": {
      "image/png": "[encoded data removed]",
      "text/plain": [
       "<Figure size 432x288 with 1 Axes>"
      ]
     },
     "metadata": {
      "needs_background": "light"
     },
     "output_type": "display_data"
    }
   ],
   "source": [
    "# Visualize the Monte Carlo simulation by creating an overlay line plot\n",
    "even_weight_line_plot = MC_even_weight.plot_simulation() \n",
    "\n",
    "# Save the plot for future use\n",
    "even_weight_line_plot.get_figure().savefig(\"MC_2Year_sim_plot.png\", bbox_inches=\"tight\") "
   ]
  },
  {
   "cell_type": "code",
   "execution_count": 86,
   "id": "9bae11dd-bcab-460f-945a-c25871194d67",
   "metadata": {},
   "outputs": [],
   "source": [
    "# Visualize the cumulative returns using the Pandas plot function\n",
    "# Include a title parameter and adjust the figure size\n",
    "#whales_spx_cumltv_rtns.plot(figsize = (16,8), title = \"Whales and S&P 500 Cumulative Returns Autumn 2014-2020\") "
   ]
  },
  {
   "cell_type": "code",
   "execution_count": 87,
   "id": "fd3eebc6-fa9f-4119-9460-2e459bacef4a",
   "metadata": {},
   "outputs": [
    {
     "data": {
      "image/png": "[encoded data removed]",
      "text/plain": [
       "<Figure size 432x288 with 1 Axes>"
      ]
     },
     "metadata": {
      "needs_background": "light"
     },
     "output_type": "display_data"
    }
   ],
   "source": [
    "# Visualize the Monte Carlo simulation by creating a histogram\n",
    "even_weight_distribution_plot = MC_even_weight.plot_distribution() \n",
    "\n",
    "# Save the plot for future use\n",
    "even_weight_distribution_plot.get_figure().savefig('MC_2year_dist_plot.png',bbox_inches='tight') "
   ]
  },
  {
   "cell_type": "code",
   "execution_count": 88,
   "id": "20a6a5d8-fdc2-4bdf-a08f-f83999c33aa6",
   "metadata": {},
   "outputs": [],
   "source": [
    "# Visualize the Monte Carlo simulation by creating a box chart\n",
    "#even_weight_distribution_plot = MC_even_weight.plot_distribution(kind='box', figsize=(14,7), title=\"Box Plot of ETFs vs S&P 500\") \n",
    "\n",
    "# Save the plot for future use\n",
    "#even_weight_distribution_plot.get_figure().savefig('MC_2year_dist_plot.png',bbox_inches='tight') \n"
   ]
  },
  {
   "cell_type": "code",
   "execution_count": 89,
   "id": "6a3db614-beb3-4cbc-b0f5-aa591ed99bdb",
   "metadata": {},
   "outputs": [
    {
     "name": "stdout",
     "output_type": "stream",
     "text": [
      "count           500.000000\n",
      "mean              1.387564\n",
      "std               0.239160\n",
      "min               0.867177\n",
      "25%               1.211457\n",
      "50%               1.375751\n",
      "75%               1.529128\n",
      "max               2.337096\n",
      "95% CI Lower      0.976179\n",
      "95% CI Upper      1.907588\n",
      "Name: 504, dtype: float64\n"
     ]
    }
   ],
   "source": [
    "# Generate the summary statistics for the Monte Carlo simulation\n",
    "# Save the summary statistics information in a variable called even_weights_table \n",
    "even_weight_table = MC_even_weight.summarize_cumulative_return()\n",
    "\n",
    "# Print the table of summary statistics\n",
    "print(even_weight_table)  "
   ]
  },
  {
   "cell_type": "markdown",
   "id": "890659ee-294e-48b1-96ee-4c02adbbe062",
   "metadata": {},
   "source": [
    "Step 8: Using a 95% confidence interval and your intial investment"
   ]
  },
  {
   "cell_type": "code",
   "execution_count": 90,
   "id": "39c1cb4e-18d4-4541-8f87-262cccb6a152",
   "metadata": {},
   "outputs": [
    {
     "name": "stdout",
     "output_type": "stream",
     "text": [
      "There is a 95% chance that an initial investment of $10,000 in the portfolio with an even weight portfolio over the next 2 years will end within in the range of $9761.79 and $19075.88.\n"
     ]
    }
   ],
   "source": [
    "# Using the lower and upper `95%` confidence interval values \n",
    "# (index positions 8 & 9 from the even_weight_table)\n",
    "# calculate  the range of the possible outcomes for a $10,000 investment \n",
    "even_ci_lower = round(even_weight_table[8]*10000,2)\n",
    "even_ci_upper = round(even_weight_table[9]*10000,2) \n",
    "\n",
    "# Print results of your calculations\n",
    "print(f\"There is a 95% chance that an initial investment of $10,000 in the portfolio\"\n",
    "      f\" with an even weight portfolio over the next 2 years will end within in the range of\"\n",
    "      f\" ${even_ci_lower} and ${even_ci_upper}.\")"
   ]
  },
  {
   "cell_type": "code",
   "execution_count": 91,
   "id": "23835299-6149-42bc-9add-18247f8c38c1",
   "metadata": {},
   "outputs": [
    {
     "data": {
      "text/html": [
       "<div>\n",
       "<style scoped>\n",
       "    .dataframe tbody tr th:only-of-type {\n",
       "        vertical-align: middle;\n",
       "    }\n",
       "\n",
       "    .dataframe tbody tr th {\n",
       "        vertical-align: top;\n",
       "    }\n",
       "\n",
       "    .dataframe thead tr th {\n",
       "        text-align: left;\n",
       "    }\n",
       "\n",
       "    .dataframe thead tr:last-of-type th {\n",
       "        text-align: right;\n",
       "    }\n",
       "</style>\n",
       "<table border=\"1\" class=\"dataframe\">\n",
       "  <thead>\n",
       "    <tr>\n",
       "      <th></th>\n",
       "      <th colspan=\"7\" halign=\"left\">SPY</th>\n",
       "      <th colspan=\"3\" halign=\"left\">QQQ</th>\n",
       "      <th>...</th>\n",
       "      <th colspan=\"3\" halign=\"left\">RPV</th>\n",
       "      <th colspan=\"7\" halign=\"left\">BND</th>\n",
       "    </tr>\n",
       "    <tr>\n",
       "      <th></th>\n",
       "      <th>open</th>\n",
       "      <th>high</th>\n",
       "      <th>low</th>\n",
       "      <th>close</th>\n",
       "      <th>volume</th>\n",
       "      <th>trade_count</th>\n",
       "      <th>vwap</th>\n",
       "      <th>open</th>\n",
       "      <th>high</th>\n",
       "      <th>low</th>\n",
       "      <th>...</th>\n",
       "      <th>volume</th>\n",
       "      <th>trade_count</th>\n",
       "      <th>vwap</th>\n",
       "      <th>open</th>\n",
       "      <th>high</th>\n",
       "      <th>low</th>\n",
       "      <th>close</th>\n",
       "      <th>volume</th>\n",
       "      <th>trade_count</th>\n",
       "      <th>vwap</th>\n",
       "    </tr>\n",
       "    <tr>\n",
       "      <th>timestamp</th>\n",
       "      <th></th>\n",
       "      <th></th>\n",
       "      <th></th>\n",
       "      <th></th>\n",
       "      <th></th>\n",
       "      <th></th>\n",
       "      <th></th>\n",
       "      <th></th>\n",
       "      <th></th>\n",
       "      <th></th>\n",
       "      <th></th>\n",
       "      <th></th>\n",
       "      <th></th>\n",
       "      <th></th>\n",
       "      <th></th>\n",
       "      <th></th>\n",
       "      <th></th>\n",
       "      <th></th>\n",
       "      <th></th>\n",
       "      <th></th>\n",
       "      <th></th>\n",
       "    </tr>\n",
       "  </thead>\n",
       "  <tbody>\n",
       "    <tr>\n",
       "      <th>2019-01-03 05:00:00+00:00</th>\n",
       "      <td>0.009103</td>\n",
       "      <td>-0.010509</td>\n",
       "      <td>-0.009270</td>\n",
       "      <td>-0.023863</td>\n",
       "      <td>0.116620</td>\n",
       "      <td>0.156441</td>\n",
       "      <td>-0.013998</td>\n",
       "      <td>0.010663</td>\n",
       "      <td>-0.015987</td>\n",
       "      <td>-0.009213</td>\n",
       "      <td>...</td>\n",
       "      <td>-0.134523</td>\n",
       "      <td>0.130866</td>\n",
       "      <td>-0.005869</td>\n",
       "      <td>0.001387</td>\n",
       "      <td>0.004661</td>\n",
       "      <td>0.001514</td>\n",
       "      <td>0.003906</td>\n",
       "      <td>0.184869</td>\n",
       "      <td>-0.207019</td>\n",
       "      <td>0.004116</td>\n",
       "    </tr>\n",
       "    <tr>\n",
       "      <th>2019-01-04 05:00:00+00:00</th>\n",
       "      <td>-0.002859</td>\n",
       "      <td>0.018264</td>\n",
       "      <td>0.014364</td>\n",
       "      <td>0.033496</td>\n",
       "      <td>-0.026452</td>\n",
       "      <td>0.015386</td>\n",
       "      <td>0.019645</td>\n",
       "      <td>-0.001704</td>\n",
       "      <td>0.024403</td>\n",
       "      <td>0.015051</td>\n",
       "      <td>...</td>\n",
       "      <td>-0.087023</td>\n",
       "      <td>-0.180367</td>\n",
       "      <td>0.025702</td>\n",
       "      <td>0.001008</td>\n",
       "      <td>-0.003386</td>\n",
       "      <td>-0.000331</td>\n",
       "      <td>-0.003012</td>\n",
       "      <td>-0.066020</td>\n",
       "      <td>0.208717</td>\n",
       "      <td>-0.002633</td>\n",
       "    </tr>\n",
       "    <tr>\n",
       "      <th>2019-01-07 05:00:00+00:00</th>\n",
       "      <td>0.020881</td>\n",
       "      <td>0.011220</td>\n",
       "      <td>0.018287</td>\n",
       "      <td>0.007885</td>\n",
       "      <td>-0.274380</td>\n",
       "      <td>-0.365106</td>\n",
       "      <td>0.014429</td>\n",
       "      <td>0.028095</td>\n",
       "      <td>0.011847</td>\n",
       "      <td>0.028799</td>\n",
       "      <td>...</td>\n",
       "      <td>-0.259504</td>\n",
       "      <td>-0.418695</td>\n",
       "      <td>0.010758</td>\n",
       "      <td>0.000000</td>\n",
       "      <td>0.000377</td>\n",
       "      <td>-0.000662</td>\n",
       "      <td>-0.001511</td>\n",
       "      <td>-0.074726</td>\n",
       "      <td>0.030204</td>\n",
       "      <td>-0.000589</td>\n",
       "    </tr>\n",
       "    <tr>\n",
       "      <th>2019-01-08 05:00:00+00:00</th>\n",
       "      <td>0.016221</td>\n",
       "      <td>0.005314</td>\n",
       "      <td>0.009178</td>\n",
       "      <td>0.009395</td>\n",
       "      <td>-0.004225</td>\n",
       "      <td>0.026620</td>\n",
       "      <td>0.006989</td>\n",
       "      <td>0.018644</td>\n",
       "      <td>0.007869</td>\n",
       "      <td>0.006982</td>\n",
       "      <td>...</td>\n",
       "      <td>-0.465217</td>\n",
       "      <td>0.080402</td>\n",
       "      <td>0.008212</td>\n",
       "      <td>-0.002768</td>\n",
       "      <td>-0.002390</td>\n",
       "      <td>-0.001150</td>\n",
       "      <td>-0.001261</td>\n",
       "      <td>-0.588526</td>\n",
       "      <td>-0.447091</td>\n",
       "      <td>-0.001685</td>\n",
       "    </tr>\n",
       "    <tr>\n",
       "      <th>2019-01-09 05:00:00+00:00</th>\n",
       "      <td>0.002725</td>\n",
       "      <td>0.006218</td>\n",
       "      <td>0.008622</td>\n",
       "      <td>0.004673</td>\n",
       "      <td>-0.072883</td>\n",
       "      <td>-0.051775</td>\n",
       "      <td>0.007708</td>\n",
       "      <td>0.003761</td>\n",
       "      <td>0.008825</td>\n",
       "      <td>0.014440</td>\n",
       "      <td>...</td>\n",
       "      <td>1.197286</td>\n",
       "      <td>0.421705</td>\n",
       "      <td>0.012836</td>\n",
       "      <td>-0.000126</td>\n",
       "      <td>0.000547</td>\n",
       "      <td>0.000379</td>\n",
       "      <td>0.001389</td>\n",
       "      <td>0.139928</td>\n",
       "      <td>0.295644</td>\n",
       "      <td>0.000695</td>\n",
       "    </tr>\n",
       "  </tbody>\n",
       "</table>\n",
       "<p>5 rows × 35 columns</p>\n",
       "</div>"
      ],
      "text/plain": [
       "                                SPY                                          \\\n",
       "                               open      high       low     close    volume   \n",
       "timestamp                                                                     \n",
       "2019-01-03 05:00:00+00:00  0.009103 -0.010509 -0.009270 -0.023863  0.116620   \n",
       "2019-01-04 05:00:00+00:00 -0.002859  0.018264  0.014364  0.033496 -0.026452   \n",
       "2019-01-07 05:00:00+00:00  0.020881  0.011220  0.018287  0.007885 -0.274380   \n",
       "2019-01-08 05:00:00+00:00  0.016221  0.005314  0.009178  0.009395 -0.004225   \n",
       "2019-01-09 05:00:00+00:00  0.002725  0.006218  0.008622  0.004673 -0.072883   \n",
       "\n",
       "                                                      QQQ                      \\\n",
       "                          trade_count      vwap      open      high       low   \n",
       "timestamp                                                                       \n",
       "2019-01-03 05:00:00+00:00    0.156441 -0.013998  0.010663 -0.015987 -0.009213   \n",
       "2019-01-04 05:00:00+00:00    0.015386  0.019645 -0.001704  0.024403  0.015051   \n",
       "2019-01-07 05:00:00+00:00   -0.365106  0.014429  0.028095  0.011847  0.028799   \n",
       "2019-01-08 05:00:00+00:00    0.026620  0.006989  0.018644  0.007869  0.006982   \n",
       "2019-01-09 05:00:00+00:00   -0.051775  0.007708  0.003761  0.008825  0.014440   \n",
       "\n",
       "                           ...       RPV                             BND  \\\n",
       "                           ...    volume trade_count      vwap      open   \n",
       "timestamp                  ...                                             \n",
       "2019-01-03 05:00:00+00:00  ... -0.134523    0.130866 -0.005869  0.001387   \n",
       "2019-01-04 05:00:00+00:00  ... -0.087023   -0.180367  0.025702  0.001008   \n",
       "2019-01-07 05:00:00+00:00  ... -0.259504   -0.418695  0.010758  0.000000   \n",
       "2019-01-08 05:00:00+00:00  ... -0.465217    0.080402  0.008212 -0.002768   \n",
       "2019-01-09 05:00:00+00:00  ...  1.197286    0.421705  0.012836 -0.000126   \n",
       "\n",
       "                                                                               \\\n",
       "                               high       low     close    volume trade_count   \n",
       "timestamp                                                                       \n",
       "2019-01-03 05:00:00+00:00  0.004661  0.001514  0.003906  0.184869   -0.207019   \n",
       "2019-01-04 05:00:00+00:00 -0.003386 -0.000331 -0.003012 -0.066020    0.208717   \n",
       "2019-01-07 05:00:00+00:00  0.000377 -0.000662 -0.001511 -0.074726    0.030204   \n",
       "2019-01-08 05:00:00+00:00 -0.002390 -0.001150 -0.001261 -0.588526   -0.447091   \n",
       "2019-01-09 05:00:00+00:00  0.000547  0.000379  0.001389  0.139928    0.295644   \n",
       "\n",
       "                                     \n",
       "                               vwap  \n",
       "timestamp                            \n",
       "2019-01-03 05:00:00+00:00  0.004116  \n",
       "2019-01-04 05:00:00+00:00 -0.002633  \n",
       "2019-01-07 05:00:00+00:00 -0.000589  \n",
       "2019-01-08 05:00:00+00:00 -0.001685  \n",
       "2019-01-09 05:00:00+00:00  0.000695  \n",
       "\n",
       "[5 rows x 35 columns]"
      ]
     },
     "metadata": {},
     "output_type": "display_data"
    }
   ],
   "source": [
    "# Prepare for the analysis by converting the dataframe of closing_prices to daily returns\n",
    "# Drop any rows with all missing values\n",
    "# Review the first five rows of the daily returns DataFrame.\n",
    "etf_daily_prices = etf_prices_df.pct_change().dropna() \n",
    "display(etf_daily_prices.head())"
   ]
  },
  {
   "cell_type": "code",
   "execution_count": 92,
   "id": "04eb16d0-9ae4-4219-a9e5-19a85bf1fc0d",
   "metadata": {},
   "outputs": [
    {
     "ename": "KeyError",
     "evalue": "\"['timestamp' 'close'] not in index\"",
     "output_type": "error",
     "traceback": [
      "\u001b[1;31m---------------------------------------------------------------------------\u001b[0m",
      "\u001b[1;31mKeyError\u001b[0m                                  Traceback (most recent call last)",
      "\u001b[1;32m~\\AppData\\Local\\Temp/ipykernel_19388/1191384595.py\u001b[0m in \u001b[0;36m<module>\u001b[1;34m\u001b[0m\n\u001b[0;32m      1\u001b[0m \u001b[1;31m# Create a DataFrame that includes only the close and daily_returns column from the C table\u001b[0m\u001b[1;33m\u001b[0m\u001b[1;33m\u001b[0m\u001b[0m\n\u001b[1;32m----> 2\u001b[1;33m \u001b[0metf_daily_rtns\u001b[0m \u001b[1;33m=\u001b[0m \u001b[0metf_daily_prices\u001b[0m\u001b[1;33m[\u001b[0m\u001b[1;33m[\u001b[0m\u001b[1;34m'timestamp'\u001b[0m\u001b[1;33m,\u001b[0m \u001b[1;34m'close'\u001b[0m\u001b[1;33m]\u001b[0m\u001b[1;33m]\u001b[0m\u001b[1;33m\u001b[0m\u001b[1;33m\u001b[0m\u001b[0m\n\u001b[0m\u001b[0;32m      3\u001b[0m \u001b[1;33m\u001b[0m\u001b[0m\n\u001b[0;32m      4\u001b[0m \u001b[0mdisplay\u001b[0m\u001b[1;33m(\u001b[0m\u001b[0metf_daily_rtns\u001b[0m\u001b[1;33m.\u001b[0m\u001b[0mhead\u001b[0m\u001b[1;33m(\u001b[0m\u001b[1;33m)\u001b[0m\u001b[1;33m)\u001b[0m\u001b[1;33m\u001b[0m\u001b[1;33m\u001b[0m\u001b[0m\n\u001b[0;32m      5\u001b[0m \u001b[1;31m#display(etf_daily_rtns.tail())\u001b[0m\u001b[1;33m\u001b[0m\u001b[1;33m\u001b[0m\u001b[0m\n",
      "\u001b[1;32m~\\anaconda3\\envs\\dev\\lib\\site-packages\\pandas\\core\\frame.py\u001b[0m in \u001b[0;36m__getitem__\u001b[1;34m(self, key)\u001b[0m\n\u001b[0;32m   3462\u001b[0m             \u001b[1;32mif\u001b[0m \u001b[0mis_iterator\u001b[0m\u001b[1;33m(\u001b[0m\u001b[0mkey\u001b[0m\u001b[1;33m)\u001b[0m\u001b[1;33m:\u001b[0m\u001b[1;33m\u001b[0m\u001b[1;33m\u001b[0m\u001b[0m\n\u001b[0;32m   3463\u001b[0m                 \u001b[0mkey\u001b[0m \u001b[1;33m=\u001b[0m \u001b[0mlist\u001b[0m\u001b[1;33m(\u001b[0m\u001b[0mkey\u001b[0m\u001b[1;33m)\u001b[0m\u001b[1;33m\u001b[0m\u001b[1;33m\u001b[0m\u001b[0m\n\u001b[1;32m-> 3464\u001b[1;33m             \u001b[0mindexer\u001b[0m \u001b[1;33m=\u001b[0m \u001b[0mself\u001b[0m\u001b[1;33m.\u001b[0m\u001b[0mloc\u001b[0m\u001b[1;33m.\u001b[0m\u001b[0m_get_listlike_indexer\u001b[0m\u001b[1;33m(\u001b[0m\u001b[0mkey\u001b[0m\u001b[1;33m,\u001b[0m \u001b[0maxis\u001b[0m\u001b[1;33m=\u001b[0m\u001b[1;36m1\u001b[0m\u001b[1;33m)\u001b[0m\u001b[1;33m[\u001b[0m\u001b[1;36m1\u001b[0m\u001b[1;33m]\u001b[0m\u001b[1;33m\u001b[0m\u001b[1;33m\u001b[0m\u001b[0m\n\u001b[0m\u001b[0;32m   3465\u001b[0m \u001b[1;33m\u001b[0m\u001b[0m\n\u001b[0;32m   3466\u001b[0m         \u001b[1;31m# take() does not accept boolean indexers\u001b[0m\u001b[1;33m\u001b[0m\u001b[1;33m\u001b[0m\u001b[0m\n",
      "\u001b[1;32m~\\anaconda3\\envs\\dev\\lib\\site-packages\\pandas\\core\\indexing.py\u001b[0m in \u001b[0;36m_get_listlike_indexer\u001b[1;34m(self, key, axis)\u001b[0m\n\u001b[0;32m   1300\u001b[0m             \u001b[1;31m# Have the index compute an indexer or return None\u001b[0m\u001b[1;33m\u001b[0m\u001b[1;33m\u001b[0m\u001b[0m\n\u001b[0;32m   1301\u001b[0m             \u001b[1;31m# if it cannot handle:\u001b[0m\u001b[1;33m\u001b[0m\u001b[1;33m\u001b[0m\u001b[0m\n\u001b[1;32m-> 1302\u001b[1;33m             \u001b[0mindexer\u001b[0m \u001b[1;33m=\u001b[0m \u001b[0max\u001b[0m\u001b[1;33m.\u001b[0m\u001b[0m_convert_listlike_indexer\u001b[0m\u001b[1;33m(\u001b[0m\u001b[0mkeyarr\u001b[0m\u001b[1;33m)\u001b[0m\u001b[1;33m\u001b[0m\u001b[1;33m\u001b[0m\u001b[0m\n\u001b[0m\u001b[0;32m   1303\u001b[0m             \u001b[1;31m# We only act on all found values:\u001b[0m\u001b[1;33m\u001b[0m\u001b[1;33m\u001b[0m\u001b[0m\n\u001b[0;32m   1304\u001b[0m             \u001b[1;32mif\u001b[0m \u001b[0mindexer\u001b[0m \u001b[1;32mis\u001b[0m \u001b[1;32mnot\u001b[0m \u001b[1;32mNone\u001b[0m \u001b[1;32mand\u001b[0m \u001b[1;33m(\u001b[0m\u001b[0mindexer\u001b[0m \u001b[1;33m!=\u001b[0m \u001b[1;33m-\u001b[0m\u001b[1;36m1\u001b[0m\u001b[1;33m)\u001b[0m\u001b[1;33m.\u001b[0m\u001b[0mall\u001b[0m\u001b[1;33m(\u001b[0m\u001b[1;33m)\u001b[0m\u001b[1;33m:\u001b[0m\u001b[1;33m\u001b[0m\u001b[1;33m\u001b[0m\u001b[0m\n",
      "\u001b[1;32m~\\anaconda3\\envs\\dev\\lib\\site-packages\\pandas\\core\\indexes\\multi.py\u001b[0m in \u001b[0;36m_convert_listlike_indexer\u001b[1;34m(self, keyarr)\u001b[0m\n\u001b[0;32m   2609\u001b[0m             \u001b[0mmask\u001b[0m \u001b[1;33m=\u001b[0m \u001b[0mcheck\u001b[0m \u001b[1;33m==\u001b[0m \u001b[1;33m-\u001b[0m\u001b[1;36m1\u001b[0m\u001b[1;33m\u001b[0m\u001b[1;33m\u001b[0m\u001b[0m\n\u001b[0;32m   2610\u001b[0m             \u001b[1;32mif\u001b[0m \u001b[0mmask\u001b[0m\u001b[1;33m.\u001b[0m\u001b[0many\u001b[0m\u001b[1;33m(\u001b[0m\u001b[1;33m)\u001b[0m\u001b[1;33m:\u001b[0m\u001b[1;33m\u001b[0m\u001b[1;33m\u001b[0m\u001b[0m\n\u001b[1;32m-> 2611\u001b[1;33m                 \u001b[1;32mraise\u001b[0m \u001b[0mKeyError\u001b[0m\u001b[1;33m(\u001b[0m\u001b[1;34mf\"{keyarr[mask]} not in index\"\u001b[0m\u001b[1;33m)\u001b[0m\u001b[1;33m\u001b[0m\u001b[1;33m\u001b[0m\u001b[0m\n\u001b[0m\u001b[0;32m   2612\u001b[0m             \u001b[1;32melif\u001b[0m \u001b[0mis_empty_indexer\u001b[0m\u001b[1;33m(\u001b[0m\u001b[0mindexer\u001b[0m\u001b[1;33m,\u001b[0m \u001b[0mkeyarr\u001b[0m\u001b[1;33m)\u001b[0m\u001b[1;33m:\u001b[0m\u001b[1;33m\u001b[0m\u001b[1;33m\u001b[0m\u001b[0m\n\u001b[0;32m   2613\u001b[0m                 \u001b[1;31m# We get here when levels still contain values which are not\u001b[0m\u001b[1;33m\u001b[0m\u001b[1;33m\u001b[0m\u001b[0m\n",
      "\u001b[1;31mKeyError\u001b[0m: \"['timestamp' 'close'] not in index\""
     ]
    }
   ],
   "source": [
    "# Create a DataFrame that includes only the close and daily_returns column from the C table\n",
    "etf_daily_rtns = etf_daily_prices[['timestamp', 'close']]\n",
    "\n",
    "display(etf_daily_rtns.head())\n",
    "#display(etf_daily_rtns.tail())"
   ]
  },
  {
   "cell_type": "code",
   "execution_count": null,
   "id": "5cdac882-be15-4e6d-b1b4-30c932f9450d",
   "metadata": {},
   "outputs": [],
   "source": [
    "#Calculate and plot the cumulative returns of the 4 fund portfolios and the S&P 500\n",
    "# Review the last 5 rows of the cumulative returns DataFrame\n",
    "etf_cumltv_rtns = (1 + etf_daily_rtns).cumprod()\n",
    "\n",
    "etf_cumltv_rtns.head() "
   ]
  },
  {
   "cell_type": "code",
   "execution_count": null,
   "id": "6a413a8c-6531-47b7-b026-3c2466cf623d",
   "metadata": {},
   "outputs": [],
   "source": [
    "# Visualize the cumulative returns using the Pandas plot function\n",
    "# Include a title parameter and adjust the figure size\n",
    "#etf_cumltv_rtns.plot(figsize = (16,8), title = \"ETF Cumulative Returns Autumn 2016-2020\") "
   ]
  },
  {
   "cell_type": "code",
   "execution_count": null,
   "id": "7c4b0b75-c822-4405-b95c-8ef413f75130",
   "metadata": {},
   "outputs": [],
   "source": []
  },
  {
   "cell_type": "markdown",
   "id": "115fa93f-e757-444d-bcc8-b480344c0b29",
   "metadata": {},
   "source": [
    "### Step 9: Create a second instance of MCSimulation with the same parameters, but set the `weights` parameter to `[.80, .05, .05, .05, .05]` to represent a portfolio of S&P 500 stks."
   ]
  },
  {
   "cell_type": "code",
   "execution_count": null,
   "id": "45df9600-9285-4e62-86cf-98df149fc1ea",
   "metadata": {},
   "outputs": [],
   "source": [
    "MC_spx = MCSimulation(\n",
    "    portfolio_data = etf_prices_df,\n",
    "    weights = [.80, .05, .05, .05, .05],\n",
    "    num_simulation = 500,\n",
    "    num_trading_days = 252*2)\n",
    "\n",
    "# Printing the first five rows of the simulation input data\n",
    "MC_spx.portfolio_data.head()  "
   ]
  },
  {
   "cell_type": "markdown",
   "id": "851b575b-2ea8-4af5-8638-2a4a996260fe",
   "metadata": {},
   "source": [
    "### Step 10: Run the Monte Carlo simulation with the new weights. Then use MCSimulation functions to do the following:\n",
    "\n",
    "* Visualize the simulation results by using both an overlay line plot and a histogram.\n",
    "* Generate the summary statistics for this new simulation.\n",
    "* Using a 95% confidence interval and your initial investment of 10,000, determine the lower and upper bounds of the expected cumulative-return value of your portfolio after 3years of growth."
   ]
  },
  {
   "cell_type": "code",
   "execution_count": null,
   "id": "85a553e6-dce5-434f-93b4-a24da44906d4",
   "metadata": {},
   "outputs": [],
   "source": [
    "# Run a Monte Carlo simulation to forecast 3 years cumulative returns with 80% SPX etf\n",
    "MC_spx.calc_cumulative_return()\n"
   ]
  },
  {
   "cell_type": "code",
   "execution_count": null,
   "id": "28f6488a-e32e-4599-a9fa-118cc781ff37",
   "metadata": {},
   "outputs": [],
   "source": [
    "# Visualize the Monte Carlo simulation by creating an overlay line plot\n",
    "spx_wght_line_plot = MC_spx.plot_simulation() \n",
    "\n",
    "# Save the plot for future use\n",
    "spx_wght_line_plot.get_figure().savefig(\"MC_2Yr_SPX_sim_plot.png\", bbox_inches=\"tight\") "
   ]
  },
  {
   "cell_type": "code",
   "execution_count": null,
   "id": "15aa0647-42b1-4430-bc7a-8053e1ec9871",
   "metadata": {},
   "outputs": [],
   "source": [
    "# Visualize the MC simulation for a majority weight in SPX by creating a histogram\n",
    "MC_spx_dist_plot = MC_spx.plot_distribution()"
   ]
  },
  {
   "cell_type": "code",
   "execution_count": null,
   "id": "e4071a24-db8a-4852-acb2-7ce72fc193c6",
   "metadata": {},
   "outputs": [],
   "source": [
    "# Generate the summary statistics for the Monte Carlo simulation with\n",
    "# majority weight in AT&T\n",
    "# Save the summary statistics information in a variable called att_table \n",
    "spx_table = MC_spx.summarize_cumulative_return()\n",
    "\n",
    "# Print summary statistics\n",
    "print(spx_table)"
   ]
  },
  {
   "cell_type": "code",
   "execution_count": null,
   "id": "7448286d-affa-45df-8c67-6e856fe35ee7",
   "metadata": {},
   "outputs": [],
   "source": []
  },
  {
   "cell_type": "code",
   "execution_count": null,
   "id": "b588f03d-3fa3-4568-b96f-9c71dbc29dc7",
   "metadata": {},
   "outputs": [],
   "source": [
    "# calculate  the range of the possible outcomes for a $15,000 investment \n",
    "spx_ci_lower =round(spx_table[8]*10000,2)\n",
    "spx_ci_upper = round(spx_table[9]*10000,2)\n",
    "\n",
    "# Print results\n",
    "print(f\"There is a 95% chance that an initial investment of $10,000 in the portfolio\"\n",
    "      f\" with a 80% weight in SPX over the next 2 years will end within in the range of\"\n",
    "      f\" ${spx_ci_lower} and ${spx_ci_upper}.\")"
   ]
  },
  {
   "cell_type": "markdown",
   "id": "8e7c4731-5beb-47d7-89fb-e948d8f52ca0",
   "metadata": {},
   "source": [
    "### Step 9: Create a 3rd instance of MCSimulation with the same parameters, but set the `weights` parameter to `[.05, .80., 05, .05, .05]` to represent a portfolio of S&P 500 stks."
   ]
  },
  {
   "cell_type": "code",
   "execution_count": null,
   "id": "63433589-35a3-4b73-a008-5f7cd0d760ee",
   "metadata": {},
   "outputs": [],
   "source": [
    "MC_qqq = MCSimulation(\n",
    "    portfolio_data = etf_prices_df,\n",
    "    weights = [.05, .80, .05, .05, .05],\n",
    "    num_simulation = 500,\n",
    "    num_trading_days = 252*2)\n",
    "\n",
    "# Printing the first five rows of the simulation input data\n",
    "MC_qqq.portfolio_data.head()  "
   ]
  },
  {
   "cell_type": "code",
   "execution_count": null,
   "id": "e10f2c15-d198-4b25-b7b3-d065a8a8f158",
   "metadata": {},
   "outputs": [],
   "source": [
    "MC_qqq.calc_cumulative_return()"
   ]
  },
  {
   "cell_type": "code",
   "execution_count": null,
   "id": "d919f40d-6f09-4fc6-abde-21acbb3d0269",
   "metadata": {},
   "outputs": [],
   "source": [
    "# Visualize the Monte Carlo simulation by creating an overlay line plot\n",
    "qqq_wght_line_plot = MC_qqq.plot_simulation() \n",
    "\n",
    "# Save the plot for future use\n",
    "qqq_wght_line_plot.get_figure().savefig(\"MC_2Yr_QQQ_sim_plot.png\", bbox_inches=\"tight\") "
   ]
  },
  {
   "cell_type": "code",
   "execution_count": null,
   "id": "0a1f7ef5-2435-4f7a-b462-d206855ba931",
   "metadata": {},
   "outputs": [],
   "source": [
    "# Visualize the MC simulation for a majority weight in SPX by creating a histogram\n",
    "MC_QQQ_dist_plot = MC_qqq.plot_distribution()"
   ]
  },
  {
   "cell_type": "code",
   "execution_count": null,
   "id": "e041c9aa-17aa-4164-87bf-86c456454897",
   "metadata": {},
   "outputs": [],
   "source": [
    "# Generate the summary statistics for the MC simulation with majority weight in QQQ\n",
    "# Save the summary statistics information in a variable called att_table \n",
    "qqq_table = MC_qqq.summarize_cumulative_return()\n",
    "\n",
    "# Print summary statistics\n",
    "print(qqq_table)"
   ]
  },
  {
   "cell_type": "code",
   "execution_count": null,
   "id": "28377c3d-da1b-4c7d-be94-6b9cb2bcd520",
   "metadata": {},
   "outputs": [],
   "source": [
    "# calculate  the range of the possible outcomes for a $10,000 investment \n",
    "qqq_ci_lower =round(qqq_table[8]*10000,2)\n",
    "qqq_ci_upper = round(qqq_table[9]*10000,2)\n",
    "\n",
    "# Print results\n",
    "print(f\"There is a 95% chance that an initial investment of $10,000 in the portfolio\"\n",
    "      f\" with a 80% weight in QQQ over the next 2 years will end within in the range of\"\n",
    "      f\" ${qqq_ci_lower} and ${qqq_ci_upper}.\")\n",
    "      "
   ]
  },
  {
   "cell_type": "code",
   "execution_count": null,
   "id": "4d43d8f2-771a-4492-b87b-b15da141fa9e",
   "metadata": {},
   "outputs": [],
   "source": []
  },
  {
   "cell_type": "markdown",
   "id": "71d7d331-bea1-4214-8cbb-b2af6a93e37e",
   "metadata": {},
   "source": [
    "### Create a 4th instance of MCSimulation with the same parameters, but set the `weights` parameter to `[.05, .05, .80, .05, .05]` to represent a portfolio of Russell 2000 stks."
   ]
  },
  {
   "cell_type": "markdown",
   "id": "b519689a-e057-4f4c-8a25-560315056b56",
   "metadata": {},
   "source": [
    "### Step 10: Run the Monte Carlo simulation with the Vanguard Russell 2000(VTWO) ETF weight. Then use MCSimulation functions to do the following:\n",
    "\n",
    "* Visualize the simulation results by using both an overlay line plot and a histogram.\n",
    "* Generate the summary statistics for this new simulation.\n",
    "* Using a 95% confidence interval and your initial investment of 10,000, determine the lower and upper bounds of the expected cumulative-return value of your portfolio after 3years of growth."
   ]
  },
  {
   "cell_type": "code",
   "execution_count": null,
   "id": "095b24e5-4b1e-46da-a7eb-68fddc635455",
   "metadata": {},
   "outputs": [],
   "source": [
    "# According to the documentation, the MCSimulation module requires us to supply the following parameters to properly configure\n",
    "# the Monte Carlo simulation:\n",
    "# Configure a Monte Carlo simulation to forecast 3 years cumulative returns\n",
    "MC_vtwo = MCSimulation(\n",
    "    portfolio_data = etf_prices_df,\n",
    "    weights = [.05, .05, .80, .05, .05],\n",
    "    num_simulation = 500,\n",
    "    num_trading_days = 252*2)\n",
    "\n",
    "# Printing the first five rows of the simulation input data\n",
    "MC_vtwo.portfolio_data.head()  "
   ]
  },
  {
   "cell_type": "code",
   "execution_count": null,
   "id": "51e4a0ad-0e6c-4404-b30f-535e36dba2d6",
   "metadata": {},
   "outputs": [],
   "source": [
    "# Printing the simulation input data\n",
    "MC_vtwo.calc_cumulative_return()"
   ]
  },
  {
   "cell_type": "code",
   "execution_count": null,
   "id": "e5304cd7-73c0-41b2-a831-3e496da5fb62",
   "metadata": {},
   "outputs": [],
   "source": [
    "# Visualize the Monte Carlo simulation by creating an overlay line plot\n",
    "vtwo_wght_line_plot = MC_vtwo.plot_simulation() \n",
    "\n",
    "# Save the plot for future use\n",
    "vtwo_wght_line_plot.get_figure().savefig(\"MC_2Yr_VTWO_sim_plot.png\", bbox_inches=\"tight\") "
   ]
  },
  {
   "cell_type": "code",
   "execution_count": null,
   "id": "5297fb5f-9184-4c90-8f0b-e280df7ec80d",
   "metadata": {},
   "outputs": [],
   "source": [
    "# Visualize the MC simulation for a majority weight in SPX by creating a histogram\n",
    "MC_vtwo_dist_plot = MC_vtwo.plot_distribution()"
   ]
  },
  {
   "cell_type": "code",
   "execution_count": null,
   "id": "dd6aedd3-2a99-4ce6-b41d-2c309774531f",
   "metadata": {},
   "outputs": [],
   "source": [
    "# Generate the summary statistics for the MC simulation with majority weight in QQQ\n",
    "# Save the summary statistics information in a variable called att_table \n",
    "vtwo_table = MC_vtwo.summarize_cumulative_return()\n",
    "\n",
    "# Print summary statistics\n",
    "print(vtwo_table)"
   ]
  },
  {
   "cell_type": "code",
   "execution_count": null,
   "id": "4543f3f8-6051-423b-b8c8-934dbfeea493",
   "metadata": {},
   "outputs": [],
   "source": [
    "# Using the lower and upper `95%` confidence intervals from the summary statistics,\n",
    "# calculate the range of the probable cumulative returns for a $10,000 investment\n",
    "vtwo_ci_95_lower_cumulative_return = round(vtwo_table[8] * 10000,2)\n",
    "vtwo_ci_95_upper_cumulative_return = round(vtwo_table[9] * 10000,2)\n",
    "\n",
    "\n",
    "# Print results\n",
    "print(f\"There is a 95% chance that an initial investment of $10,000 in the VTWO portfolio\"\n",
    "    f\" over the next 2 years will end within in the range of\"\n",
    "    f\" ${vtwo_ci_95_lower_cumulative_return: .2f} and ${vtwo_ci_95_upper_cumulative_return: .2f}.\")"
   ]
  },
  {
   "cell_type": "markdown",
   "id": "b37eac77-7f84-4df0-b97f-3b2dfbc4e78a",
   "metadata": {},
   "source": [
    "### Step 9: Create a 5th instance of MCSimulation with the same parameters, but set the '[weights]' parameter to '[.05, .05, 05, .80, .05]' to represent a portfolio of ARK Innovation ETF stks.¶"
   ]
  },
  {
   "cell_type": "code",
   "execution_count": null,
   "id": "7035e5aa-96ac-4ff9-9f88-878ce0b417a1",
   "metadata": {},
   "outputs": [],
   "source": [
    "# According to the documentation, the MCSimulation module requires us to supply the following parameters to properly configure\n",
    "# the Monte Carlo simulation:\n",
    "# Configure a Monte Carlo simulation to forecast 3 years cumulative returns\n",
    "MC_arkk = MCSimulation(\n",
    "    portfolio_data = etf_prices_df,\n",
    "    weights = [.05, .05, .05, .80, .05],\n",
    "    num_simulation = 500,\n",
    "    num_trading_days = 252*2)\n",
    "\n",
    "# Printing the first five rows of the simulation input data\n",
    "MC_arkk.portfolio_data.head()  "
   ]
  },
  {
   "cell_type": "code",
   "execution_count": null,
   "id": "981d3730-dec7-42d2-96ec-b19c49615bee",
   "metadata": {},
   "outputs": [],
   "source": [
    "MC_arkk.calc_cumulative_return()"
   ]
  },
  {
   "cell_type": "code",
   "execution_count": null,
   "id": "0908a1c7-20d6-45a7-b239-64bf90a6bab8",
   "metadata": {},
   "outputs": [],
   "source": [
    "# Plot simulation outcomes\n",
    "arkk_wght_line_plot = MC_arkk.plot_simulation()\n",
    "\n",
    "# Save the plot for future use\n",
    "arkk_wght_line_plot.get_figure().savefig(\"MC_2Yr_ARKK_sim_plot.png\", bbox_inches=\"tight\")"
   ]
  },
  {
   "cell_type": "code",
   "execution_count": null,
   "id": "f7f31be2-05e4-4684-9936-0526f55daab9",
   "metadata": {},
   "outputs": [],
   "source": [
    "# Visualize the MC simulation for a majority weight in ARKK by creating a histogram\n",
    "MC_arkk_dist_plot = MC_arkk.plot_distribution()"
   ]
  },
  {
   "cell_type": "code",
   "execution_count": null,
   "id": "18ac7269-6c5f-4005-9d94-5276f51c200f",
   "metadata": {},
   "outputs": [],
   "source": [
    "# Generate the summary statistics for the MC simulation with majority weight in QQQ\n",
    "# Save the summary statistics information in a variable called att_table \n",
    "arkk_table = MC_arkk.summarize_cumulative_return()\n",
    "\n",
    "# Print summary statistics\n",
    "print(arkk_table)"
   ]
  },
  {
   "cell_type": "code",
   "execution_count": null,
   "id": "eb9f94e9-8ad4-436a-86b5-fa91b912d9db",
   "metadata": {},
   "outputs": [],
   "source": [
    "# Using the lower and upper `95%` confidence intervals from the summary statistics,\n",
    "# calculate the range of the probable cumulative returns for a $10,000 investment\n",
    "arkk_ci_95_lower = round(arkk_table[8] * 10000,2)\n",
    "arkk_ci_95_upper = round(arkk_table[9] * 10000,2)\n",
    "\n",
    "\n",
    "# Print results\n",
    "print(f\"There is a 95% chance that an initial investment of $10,000 in the ARKK portfolio\"\n",
    "    f\" over the next 2 years will end within in the range of\"\n",
    "    f\" ${arkk_ci_95_lower: .2f} and ${arkk_ci_95_upper: .2f}.\")"
   ]
  },
  {
   "cell_type": "markdown",
   "id": "298da5c3-a178-43dd-8ef6-0ef9eba93ce0",
   "metadata": {},
   "source": [
    "### Step 9: Create a 6th instance of MCSimulation with the same parameters, but set the `weights` parameter to `[.05, .05, .05, .05, .80]` to represent a portfolio of Crypto stocks minus ARK Innovation ETF stks."
   ]
  },
  {
   "cell_type": "code",
   "execution_count": null,
   "id": "85f0cc2c-8bed-45a6-8ae5-2916ebe2978f",
   "metadata": {},
   "outputs": [],
   "source": []
  },
  {
   "cell_type": "code",
   "execution_count": null,
   "id": "df593ab5-4db1-48ed-abf0-63fd7aa5b621",
   "metadata": {},
   "outputs": [],
   "source": []
  },
  {
   "cell_type": "code",
   "execution_count": null,
   "id": "0f9f956e-2be1-4622-ac30-3bad45c29dd7",
   "metadata": {},
   "outputs": [],
   "source": []
  },
  {
   "cell_type": "code",
   "execution_count": null,
   "id": "ae1ee120-8ea2-4138-8cc1-862a62e28592",
   "metadata": {},
   "outputs": [],
   "source": []
  },
  {
   "cell_type": "code",
   "execution_count": null,
   "id": "a9b8c2bf-fbbe-4ead-90d7-8b109f95fb91",
   "metadata": {},
   "outputs": [],
   "source": []
  },
  {
   "cell_type": "markdown",
   "id": "91cd363d-b5c3-4ab4-9882-c641d27fec1d",
   "metadata": {},
   "source": [
    "### Step 9: Create a 6th instance of MCSimulation with the same parameters, but set the `weights` parameter to `[.05, .05, .05, .05, .80]` to represent a portfolio of Crypto stocks minus ARK Innovation ETF (ARKK) stks."
   ]
  },
  {
   "cell_type": "code",
   "execution_count": null,
   "id": "a1e4dab9-9457-4d1d-b49f-ad8386b53310",
   "metadata": {},
   "outputs": [],
   "source": []
  },
  {
   "cell_type": "code",
   "execution_count": null,
   "id": "40cde588-fee1-4cdf-9c35-93a5b7c42822",
   "metadata": {},
   "outputs": [],
   "source": []
  },
  {
   "cell_type": "code",
   "execution_count": null,
   "id": "5b73d1d8-898d-4392-9c7d-383f13cc19a9",
   "metadata": {},
   "outputs": [],
   "source": []
  },
  {
   "cell_type": "code",
   "execution_count": null,
   "id": "3e729b8a-4a5a-4067-b55e-6e722c21a04a",
   "metadata": {},
   "outputs": [],
   "source": []
  },
  {
   "cell_type": "code",
   "execution_count": null,
   "id": "01357305-8a5f-4084-b6a2-4011f4816cf8",
   "metadata": {},
   "outputs": [],
   "source": []
  },
  {
   "cell_type": "markdown",
   "id": "93c1a5c5-a3bb-4f88-b865-39d2c0fca1ee",
   "metadata": {},
   "source": [
    "### Step 9: Create a 6th instance of MCSimulation with the same parameters, but set the `weights` parameter to `[.05, .05, .05, .05, .80]` to represent a portfolio of Crypto stocks minus ARK Innovation ETF stks."
   ]
  },
  {
   "cell_type": "code",
   "execution_count": null,
   "id": "c591eae6-3725-4229-8faf-a6dba800a92b",
   "metadata": {},
   "outputs": [],
   "source": [
    "# Calculate and plot the cumulative returns of the 4 fund portfolios and the S&P 500\n",
    "# Review the last 5 rows of the cumulative returns DataFrame\n",
    "even_weight_cumltv_rtns = (1 + even_weight_table).cumprod()\n",
    "\n",
    "even_weight_cumltv_rtns.tail() "
   ]
  },
  {
   "cell_type": "code",
   "execution_count": null,
   "id": "9d23922c-5d24-40e5-9542-53221902ba2e",
   "metadata": {},
   "outputs": [],
   "source": [
    "# Use the daily return data to create box plots to visualize the volatility of the 4 funds and the S&P 500 \n",
    "# Include a title parameter and adjust the figure size\n",
    "# whales_spx_daily_rtns.plot(kind='box', figsize=(14,7), title=\"Box Plot of Whales Daily Returns vs S&P 500\")\n",
    "even_weight_cumltv_rtns.plot(kind='box', figsize=(14,7), title=\"Box Plot of ETFs vs S&P 500\")"
   ]
  },
  {
   "cell_type": "code",
   "execution_count": null,
   "id": "dc27e4f7-2a26-46d9-90d6-5b53650f16f7",
   "metadata": {},
   "outputs": [],
   "source": []
  },
  {
   "cell_type": "code",
   "execution_count": null,
   "id": "87c091b1-0261-48a9-9f00-12864c848fe4",
   "metadata": {},
   "outputs": [],
   "source": []
  },
  {
   "cell_type": "code",
   "execution_count": null,
   "id": "5612a202-d210-49c9-977c-eb932f12582b",
   "metadata": {},
   "outputs": [],
   "source": []
  },
  {
   "cell_type": "code",
   "execution_count": null,
   "id": "a72d09c8-2b13-4b67-a28f-c45357c3c71f",
   "metadata": {},
   "outputs": [],
   "source": [
    "# Generate summary statistics from the Monte Carlo simulation\n",
    "# Set the summary statistics equal to a variable for future use\n",
    "MC_summary_statistics = MC_fiveyear.summarize_cumulative_return()\n",
    "\n",
    "# Print summary statistics Series\n",
    "print(MC_summary_statistics)"
   ]
  },
  {
   "cell_type": "code",
   "execution_count": null,
   "id": "ae49123f-34f3-4f41-89f6-7527b0e586bc",
   "metadata": {},
   "outputs": [],
   "source": [
    "# Using the lower and upper `95%` confidence intervals from the summary statistics,\n",
    "# calculate the range of the probable cumulative returns for a $10,000 investment\n",
    "ci_95_lower_cumulative_return = MC_summary_statistics[8] * 10000\n",
    "ci_95_upper_cumulative_return = MC_summary_statistics[9] * 10000\n",
    "\n",
    "\n",
    "# Print results\n",
    "print(f\"There is a 95% chance that an initial investment of $10,000 in the portfolio\"\n",
    "    f\" over the next 2 years will end within in the range of\"\n",
    "    f\" ${ci_95_lower_cumulative_return: .2f} and ${ci_95_upper_cumulative_return: .2f}.\")"
   ]
  },
  {
   "cell_type": "code",
   "execution_count": null,
   "id": "84b9b361-21bc-4120-a732-faf0c6f4966b",
   "metadata": {},
   "outputs": [],
   "source": []
  },
  {
   "cell_type": "code",
   "execution_count": null,
   "id": "aa4a36bb-b9f0-477b-82ea-2353f3cfbc94",
   "metadata": {},
   "outputs": [],
   "source": []
  },
  {
   "cell_type": "code",
   "execution_count": null,
   "id": "32e5fd3f-e591-468a-8a79-c1e0c73ec422",
   "metadata": {},
   "outputs": [],
   "source": []
  },
  {
   "cell_type": "code",
   "execution_count": null,
   "id": "83ba09d0-b9c3-43a4-8096-c282b152245d",
   "metadata": {},
   "outputs": [],
   "source": []
  },
  {
   "cell_type": "code",
   "execution_count": null,
   "id": "bd77fea5-8428-4a95-9715-a24b6ccbdcbb",
   "metadata": {},
   "outputs": [],
   "source": []
  },
  {
   "cell_type": "code",
   "execution_count": null,
   "id": "70281661-34bb-47c6-8e98-bd7c888b739f",
   "metadata": {},
   "outputs": [],
   "source": []
  },
  {
   "cell_type": "code",
   "execution_count": null,
   "id": "fd4024b4-9e00-4e9a-8b81-7fa18e53168a",
   "metadata": {},
   "outputs": [],
   "source": [
    " # Top Crypto Coin Tickers by mkt-cap (no stable_coins) \n",
    "crypto_tickers = ['BTC', 'ETH', 'XRP', 'LUNA', 'SOL', 'ADA']\n",
    "crypto_tickers"
   ]
  },
  {
   "cell_type": "code",
   "execution_count": null,
   "id": "e413aa9e-9de1-42fd-85a0-2cb493b23038",
   "metadata": {},
   "outputs": [],
   "source": [
    "start_date = pd.Timestamp( '2019-01-01', tz=\"America/New_York\").isoformat()  \n",
    "end_date = pd.Timestamp(\"2020-12-31\", tz=\"America/New_York\").isoformat() "
   ]
  },
  {
   "cell_type": "code",
   "execution_count": null,
   "id": "bbb34994-0a36-4a46-b50f-2e1eeb1a6c79",
   "metadata": {},
   "outputs": [],
   "source": [
    "timeframe=\"1Day\" \n",
    "\n",
    "limit_rows = 1000\n",
    "\n",
    "crpto_prices_df = alpaca.get_bars(crypto_tickers, timeframe, start=start_date, end=end_date).df\n",
    "\n",
    "# Reorganize the DataFrame and Separate ticker data\n",
    "BTC = crypto_prices_df[crypto_prices_df['symbol']=='BTC'].drop('symbol', axis=1)\n",
    "ETH = crypto_prices_df[crypto_prices_dff['symbol']=='ETH'].drop('symbol', axis=1)\n",
    "XRP = crypto_prices_df[crypto_prices_df['symbol']=='XRP'].drop('symbol', axis=1)\n",
    "LUNA = crypto_prices_df[crypto_prices_df['symbol']=='LUNA'].drop('symbol', axis=1) \n",
    "SOL = crypto_prices_df[crypto_prices_df['symbol']=='SOL'].drop('symbol', axis=1)\n",
    "\n",
    "# Concatenate the ticker DataFrames\n",
    "crypto_prices_df = pd.concat([BTC, ETH, XRP, LUNA, SOL], axis=1, keys=[\"BTC\", \"ETH\", \"XRP\", \"LUNA\", \"SOL\"]) \n",
    "\n",
    "# Review the first five rows of the resulting DataFrame \n",
    "display(crypto_prices_df.head())\n",
    "display(crypto_prices_df.tail())"
   ]
  },
  {
   "cell_type": "code",
   "execution_count": null,
   "id": "3fe721ca-b0aa-4670-b07d-9cff39b73599",
   "metadata": {},
   "outputs": [],
   "source": []
  },
  {
   "cell_type": "code",
   "execution_count": null,
   "id": "770cf107-5329-438b-8a45-45da465df8ac",
   "metadata": {},
   "outputs": [],
   "source": []
  },
  {
   "cell_type": "code",
   "execution_count": null,
   "id": "d299dee2-9334-4cac-b063-8a74451157ad",
   "metadata": {},
   "outputs": [],
   "source": []
  },
  {
   "cell_type": "code",
   "execution_count": null,
   "id": "4a4b5a2b-2aca-4eb1-ae82-cd3dfadd8cdc",
   "metadata": {},
   "outputs": [],
   "source": []
  }
 ],
 "metadata": {
  "kernelspec": {
   "display_name": "dev",
   "language": "python",
   "name": "dev"
  },
  "language_info": {
   "codemirror_mode": {
    "name": "ipython",
    "version": 3
   },
   "file_extension": ".py",
   "mimetype": "text/x-python",
   "name": "python",
   "nbconvert_exporter": "python",
   "pygments_lexer": "ipython3",
   "version": "3.9.7"
  }
 },
 "nbformat": 4,
 "nbformat_minor": 5
}
