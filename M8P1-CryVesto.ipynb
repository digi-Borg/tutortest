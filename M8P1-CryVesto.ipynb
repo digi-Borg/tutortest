{
 "cells": [
  {
   "cell_type": "markdown",
   "id": "6dd1b7b1-262f-4eed-a35a-2d5fccaabc28",
   "metadata": {},
   "source": [
    "###Mod8 Project 1: CryVesto###"
   ]
  },
  {
   "cell_type": "code",
   "execution_count": 7,
   "id": "48f63281-a5ac-4639-a403-975460328c6b",
   "metadata": {},
   "outputs": [
    {
     "ename": "ModuleNotFoundError",
     "evalue": "No module named 'MCForecastTools'",
     "output_type": "error",
     "traceback": [
      "\u001b[1;31m---------------------------------------------------------------------------\u001b[0m",
      "\u001b[1;31mModuleNotFoundError\u001b[0m                       Traceback (most recent call last)",
      "\u001b[1;32m~\\AppData\\Local\\Temp/ipykernel_8444/2808316053.py\u001b[0m in \u001b[0;36m<module>\u001b[1;34m\u001b[0m\n\u001b[0;32m      8\u001b[0m \u001b[1;32mimport\u001b[0m \u001b[0mhvplot\u001b[0m\u001b[1;33m.\u001b[0m\u001b[0mpandas\u001b[0m\u001b[1;33m\u001b[0m\u001b[1;33m\u001b[0m\u001b[0m\n\u001b[0;32m      9\u001b[0m \u001b[1;33m\u001b[0m\u001b[0m\n\u001b[1;32m---> 10\u001b[1;33m \u001b[1;32mfrom\u001b[0m \u001b[0mMCForecastTools\u001b[0m \u001b[1;32mimport\u001b[0m \u001b[0mMCSimulation\u001b[0m\u001b[1;33m\u001b[0m\u001b[1;33m\u001b[0m\u001b[0m\n\u001b[0m",
      "\u001b[1;31mModuleNotFoundError\u001b[0m: No module named 'MCForecastTools'"
     ]
    }
   ],
   "source": [
    "#Imports for Analysis Program:\n",
    "from pathlib import Path\n",
    "import pandas as pd\n",
    "import numpy as np\n",
    "import os \n",
    "import requests\n",
    "import yfinance as yf \n",
    "from dotenv import load_dotenv\n",
    "import hvplot.pandas \n",
    "\n",
    "from MCForecastTools import MCSimulation "
   ]
  },
  {
   "cell_type": "markdown",
   "id": "0a4f7572-5c8c-400a-9f43-07dd39171bb5",
   "metadata": {},
   "source": [
    "Create a Python list named savings_data that has two elements. The first element contains the total value of the cryptocurrency wallet. The second element contains the total value of the stock and bond portions of the portfolio"
   ]
  },
  {
   "cell_type": "code",
   "execution_count": 6,
   "id": "23ee0b67-2dad-4c7e-8529-f4e1584afe7a",
   "metadata": {},
   "outputs": [
    {
     "ename": "NameError",
     "evalue": "name 'total_crypto_wallet' is not defined",
     "output_type": "error",
     "traceback": [
      "\u001b[1;31m---------------------------------------------------------------------------\u001b[0m",
      "\u001b[1;31mNameError\u001b[0m                                 Traceback (most recent call last)",
      "\u001b[1;32m~\\AppData\\Local\\Temp/ipykernel_8444/4251342621.py\u001b[0m in \u001b[0;36m<module>\u001b[1;34m\u001b[0m\n\u001b[0;32m      1\u001b[0m \u001b[1;31m# Consolidate financial assets data into a Python list\u001b[0m\u001b[1;33m\u001b[0m\u001b[1;33m\u001b[0m\u001b[0m\n\u001b[1;32m----> 2\u001b[1;33m \u001b[0msavings_data\u001b[0m \u001b[1;33m=\u001b[0m \u001b[1;33m(\u001b[0m\u001b[0mtotal_crypto_wallet\u001b[0m\u001b[1;33m,\u001b[0m \u001b[0mtotal_portfolio\u001b[0m\u001b[1;33m)\u001b[0m\u001b[1;33m\u001b[0m\u001b[1;33m\u001b[0m\u001b[0m\n\u001b[0m\u001b[0;32m      3\u001b[0m \u001b[1;33m\u001b[0m\u001b[0m\n\u001b[0;32m      4\u001b[0m \u001b[1;31m# Review the Python list savings_data\u001b[0m\u001b[1;33m\u001b[0m\u001b[1;33m\u001b[0m\u001b[0m\n\u001b[0;32m      5\u001b[0m \u001b[0msavings_data\u001b[0m\u001b[1;33m\u001b[0m\u001b[1;33m\u001b[0m\u001b[0m\n",
      "\u001b[1;31mNameError\u001b[0m: name 'total_crypto_wallet' is not defined"
     ]
    }
   ],
   "source": [
    "# Consolidate financial assets data into a Python list\n",
    "savings_data = (total_crypto_wallet, total_portfolio) \n",
    "\n",
    "# Review the Python list savings_data\n",
    "savings_data "
   ]
  },
  {
   "cell_type": "markdown",
   "id": "893bda60-6875-43d4-9608-758b593c3be3",
   "metadata": {},
   "source": [
    "DataFrame and code for pie charts: \n",
    "Use the [savings_data] list to create a Pandas DataFrame named [savings_df], and then display this DataFrame. The function to create the DataFrame should take the following 3 parameters: \n",
    "\n",
    "savings_data: Use the list that you just created.\n",
    "\n",
    "columns: Set this parameter equal to a Python list with a single value called amount.\n",
    "\n",
    "index: Set this parameter equal to a Python list with the values of crypto and stock/bond.\n"
   ]
  },
  {
   "cell_type": "code",
   "execution_count": null,
   "id": "b9f4cab1-15cc-4971-9824-439fef137202",
   "metadata": {},
   "outputs": [],
   "source": [
    "# Plot the total value of the member's portfolio (crypto and stock/bond) in a pie chart\n",
    "savings_df.plot.pie(y='amount', autopct=\"%.2f\", title='Portfolio Composition - 2022-04-23') \n",
    "# plt.style.use('dark_background') "
   ]
  },
  {
   "cell_type": "code",
   "execution_count": 3,
   "id": "095b24e5-4b1e-46da-a7eb-68fddc635455",
   "metadata": {},
   "outputs": [
    {
     "ename": "ModuleNotFoundError",
     "evalue": "No module named 'MCForecastTools'",
     "output_type": "error",
     "traceback": [
      "\u001b[1;31m---------------------------------------------------------------------------\u001b[0m",
      "\u001b[1;31mModuleNotFoundError\u001b[0m                       Traceback (most recent call last)",
      "\u001b[1;32m~\\AppData\\Local\\Temp/ipykernel_8444/488928480.py\u001b[0m in \u001b[0;36m<module>\u001b[1;34m\u001b[0m\n\u001b[0;32m      1\u001b[0m \u001b[1;31m# Import the MCSimulation module from the MCForecastTools library file\u001b[0m\u001b[1;33m\u001b[0m\u001b[1;33m\u001b[0m\u001b[0m\n\u001b[1;32m----> 2\u001b[1;33m \u001b[1;32mfrom\u001b[0m \u001b[0mMCForecastTools\u001b[0m \u001b[1;32mimport\u001b[0m \u001b[0mMCSimulation\u001b[0m\u001b[1;33m\u001b[0m\u001b[1;33m\u001b[0m\u001b[0m\n\u001b[0m\u001b[0;32m      3\u001b[0m \u001b[1;32mimport\u001b[0m \u001b[0myfinance\u001b[0m \u001b[1;32mas\u001b[0m \u001b[0myf\u001b[0m\u001b[1;33m\u001b[0m\u001b[1;33m\u001b[0m\u001b[0m\n\u001b[0;32m      4\u001b[0m \u001b[1;32mimport\u001b[0m \u001b[0mhvplot\u001b[0m\u001b[1;33m.\u001b[0m\u001b[0mpandas\u001b[0m\u001b[1;33m\u001b[0m\u001b[1;33m\u001b[0m\u001b[0m\n\u001b[0;32m      5\u001b[0m \u001b[1;31m# Print the documentation of the MCSimulation module of the MCForecastTools library\u001b[0m\u001b[1;33m\u001b[0m\u001b[1;33m\u001b[0m\u001b[0m\n",
      "\u001b[1;31mModuleNotFoundError\u001b[0m: No module named 'MCForecastTools'"
     ]
    }
   ],
   "source": [
    "# Import the MCSimulation module from the MCForecastTools library file\n",
    "from MCForecastTools import MCSimulation\n",
    "import yfinance as yf \n",
    "import hvplot.pandas \n",
    "# Print the documentation of the MCSimulation module of the MCForecastTools library\n",
    "?MCSimulation"
   ]
  },
  {
   "cell_type": "code",
   "execution_count": 4,
   "id": "51e4a0ad-0e6c-4404-b30f-535e36dba2d6",
   "metadata": {},
   "outputs": [
    {
     "ename": "NameError",
     "evalue": "name 'MCSimulation' is not defined",
     "output_type": "error",
     "traceback": [
      "\u001b[1;31m---------------------------------------------------------------------------\u001b[0m",
      "\u001b[1;31mNameError\u001b[0m                                 Traceback (most recent call last)",
      "\u001b[1;32m~\\AppData\\Local\\Temp/ipykernel_8444/2462057491.py\u001b[0m in \u001b[0;36m<module>\u001b[1;34m\u001b[0m\n\u001b[0;32m      2\u001b[0m \u001b[1;31m# properly configure the Monte Carlo simulation:\u001b[0m\u001b[1;33m\u001b[0m\u001b[1;33m\u001b[0m\u001b[0m\n\u001b[0;32m      3\u001b[0m \u001b[1;31m# Configure a Monte Carlo simulation to forecast five years cumulative returns\u001b[0m\u001b[1;33m\u001b[0m\u001b[1;33m\u001b[0m\u001b[0m\n\u001b[1;32m----> 4\u001b[1;33m MC_fiveyear = MCSimulation(\n\u001b[0m\u001b[0;32m      5\u001b[0m     \u001b[0mportfolio_data\u001b[0m \u001b[1;33m=\u001b[0m \u001b[0mprices_df\u001b[0m\u001b[1;33m,\u001b[0m\u001b[1;33m\u001b[0m\u001b[1;33m\u001b[0m\u001b[0m\n\u001b[0;32m      6\u001b[0m     \u001b[0mweights\u001b[0m \u001b[1;33m=\u001b[0m \u001b[1;33m[\u001b[0m\u001b[1;36m.60\u001b[0m\u001b[1;33m,\u001b[0m\u001b[1;36m.40\u001b[0m\u001b[1;33m]\u001b[0m\u001b[1;33m,\u001b[0m\u001b[1;33m\u001b[0m\u001b[1;33m\u001b[0m\u001b[0m\n",
      "\u001b[1;31mNameError\u001b[0m: name 'MCSimulation' is not defined"
     ]
    }
   ],
   "source": [
    "# According to the documentation, the MCSimulation module requires us to supply the following parameters to \n",
    "# properly configure the Monte Carlo simulation:\n",
    "# Configure a Monte Carlo simulation to forecast five years cumulative returns\n",
    "MC_fiveyear = MCSimulation(\n",
    "    portfolio_data = prices_df,\n",
    "    weights = [.60,.40],\n",
    "    num_simulation = 500,\n",
    "    num_trading_days = 252*5\n",
    ")"
   ]
  },
  {
   "cell_type": "code",
   "execution_count": null,
   "id": "f9e1fd77-cdc2-4ef0-bfda-fdcbcea169b4",
   "metadata": {},
   "outputs": [],
   "source": [
    "# Printing the simulation input data\n",
    "MC_fiveyear.portfolio_data.head() "
   ]
  },
  {
   "cell_type": "code",
   "execution_count": null,
   "id": "cab63982-85ac-4abf-b3de-e5d772003d2e",
   "metadata": {},
   "outputs": [],
   "source": [
    "# Run a Monte Carlo simulation to forecast five years cumulative returns\n",
    "MC_fiveyear.calc_cumulative_return() "
   ]
  },
  {
   "cell_type": "code",
   "execution_count": null,
   "id": "2ee2bbe2-cccf-432b-bd51-962c364d2926",
   "metadata": {},
   "outputs": [],
   "source": [
    "# Plot simulation outcomes\n",
    "MC_sim_line_plot = MC_fiveyear.plot_simulation()\n",
    "\n",
    "# Save the plot for future use\n",
    "MC_sim_line_plot.get_figure().savefig(\"MC_fiveyear_sim_plot.png\", bbox_inches=\"tight\")"
   ]
  },
  {
   "cell_type": "code",
   "execution_count": null,
   "id": "ef9fdb54-4601-4171-9872-62e16a6fc6f4",
   "metadata": {},
   "outputs": [],
   "source": [
    "# Generate summary statistics from the Monte Carlo simulation\n",
    "# Set the summary statistics equal to a variable for future use\n",
    "MC_summary_statistics = MC_fiveyear.summarize_cumulative_return()\n",
    "\n",
    "# Print summary statistics Series\n",
    "print(MC_summary_statistics)"
   ]
  },
  {
   "cell_type": "code",
   "execution_count": null,
   "id": "3d35da7f-85ab-45a2-8b7a-0b150cddb833",
   "metadata": {},
   "outputs": [],
   "source": [
    "# Using the lower and upper `95%` confidence intervals from the summary statistics,\n",
    "# calculate the range of the probable cumulative returns for a $10,000 investment\n",
    "ci_95_lower_cumulative_return = MC_summary_statistics[8] * 10000\n",
    "ci_95_upper_cumulative_return = MC_summary_statistics[9] * 10000\n",
    "\n",
    "\n",
    "# Print results\n",
    "print(f\"There is a 95% chance that an initial investment of $10,000 in the portfolio\"\n",
    "    f\" over the next 5 years will end within in the range of\"\n",
    "    f\" ${ci_95_lower_cumulative_return: .2f} and ${ci_95_upper_cumulative_return: .2f}.\")"
   ]
  },
  {
   "cell_type": "code",
   "execution_count": null,
   "id": "b8a0deb8-4e86-4c4c-8923-e062c670851f",
   "metadata": {},
   "outputs": [],
   "source": []
  },
  {
   "cell_type": "code",
   "execution_count": null,
   "id": "c732c997-8290-4175-b698-b0f5d9b0503e",
   "metadata": {},
   "outputs": [],
   "source": []
  },
  {
   "cell_type": "code",
   "execution_count": null,
   "id": "0d90faa6-53cf-4f65-a890-8f18b848248c",
   "metadata": {},
   "outputs": [],
   "source": []
  },
  {
   "cell_type": "code",
   "execution_count": null,
   "id": "605618e7-fead-4d8d-87f4-c81340998dcd",
   "metadata": {},
   "outputs": [],
   "source": []
  }
 ],
 "metadata": {
  "kernelspec": {
   "display_name": "dev",
   "language": "python",
   "name": "dev"
  },
  "language_info": {
   "codemirror_mode": {
    "name": "ipython",
    "version": 3
   },
   "file_extension": ".py",
   "mimetype": "text/x-python",
   "name": "python",
   "nbconvert_exporter": "python",
   "pygments_lexer": "ipython3",
   "version": "3.9.7"
  }
 },
 "nbformat": 4,
 "nbformat_minor": 5
}
